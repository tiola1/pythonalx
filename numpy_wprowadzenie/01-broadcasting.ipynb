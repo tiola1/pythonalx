{
 "cells": [
  {
   "cell_type": "code",
   "execution_count": 2,
   "metadata": {},
   "outputs": [],
   "source": [
    "import numpy as np"
   ]
  },
  {
   "cell_type": "code",
   "execution_count": 3,
   "metadata": {},
   "outputs": [
    {
     "data": {
      "text/plain": [
       "'1.18.1'"
      ]
     },
     "execution_count": 3,
     "metadata": {},
     "output_type": "execute_result"
    }
   ],
   "source": [
    "np.__version__"
   ]
  },
  {
   "cell_type": "code",
   "execution_count": 5,
   "metadata": {},
   "outputs": [
    {
     "data": {
      "text/plain": [
       "array([[0, 1, 2],\n",
       "       [3, 4, 5],\n",
       "       [6, 7, 8]])"
      ]
     },
     "execution_count": 5,
     "metadata": {},
     "output_type": "execute_result"
    }
   ],
   "source": [
    "arr1 = np.arange(9).reshape(3,3)\n",
    "arr1"
   ]
  },
  {
   "cell_type": "code",
   "execution_count": 8,
   "metadata": {},
   "outputs": [
    {
     "data": {
      "text/plain": [
       "array([[0],\n",
       "       [1],\n",
       "       [2]])"
      ]
     },
     "execution_count": 8,
     "metadata": {},
     "output_type": "execute_result"
    }
   ],
   "source": [
    "arr2 = np.arange(3).reshape(3,1)\n",
    "arr2"
   ]
  },
  {
   "cell_type": "raw",
   "metadata": {},
   "source": []
  },
  {
   "cell_type": "code",
   "execution_count": 9,
   "metadata": {},
   "outputs": [
    {
     "data": {
      "text/plain": [
       "array([[ 0,  1,  2],\n",
       "       [ 4,  5,  6],\n",
       "       [ 8,  9, 10]])"
      ]
     },
     "execution_count": 9,
     "metadata": {},
     "output_type": "execute_result"
    }
   ],
   "source": [
    "arr1 + arr2"
   ]
  },
  {
   "cell_type": "code",
   "execution_count": 10,
   "metadata": {},
   "outputs": [
    {
     "data": {
      "text/plain": [
       "array([0, 1, 2])"
      ]
     },
     "execution_count": 10,
     "metadata": {},
     "output_type": "execute_result"
    }
   ],
   "source": [
    "arr2 = arr2.flatten()\n",
    "arr2"
   ]
  },
  {
   "cell_type": "code",
   "execution_count": 11,
   "metadata": {},
   "outputs": [
    {
     "data": {
      "text/plain": [
       "array([0, 1, 2, 3, 4, 5, 6, 7, 8])"
      ]
     },
     "execution_count": 11,
     "metadata": {},
     "output_type": "execute_result"
    }
   ],
   "source": [
    "arr1.ravel() #wypłaszczanie tablicy"
   ]
  },
  {
   "cell_type": "code",
   "execution_count": 12,
   "metadata": {},
   "outputs": [
    {
     "data": {
      "text/plain": [
       "array([[ 0,  2,  4],\n",
       "       [ 3,  5,  7],\n",
       "       [ 6,  8, 10]])"
      ]
     },
     "execution_count": 12,
     "metadata": {},
     "output_type": "execute_result"
    }
   ],
   "source": [
    "arr1 + arr2"
   ]
  },
  {
   "cell_type": "code",
   "execution_count": 13,
   "metadata": {},
   "outputs": [
    {
     "data": {
      "text/plain": [
       "array([[ 0,  2,  4],\n",
       "       [ 6,  8, 10],\n",
       "       [12, 14, 16]])"
      ]
     },
     "execution_count": 13,
     "metadata": {},
     "output_type": "execute_result"
    }
   ],
   "source": [
    "arr1*2"
   ]
  },
  {
   "cell_type": "markdown",
   "metadata": {},
   "source": []
  },
  {
   "cell_type": "markdown",
   "metadata": {},
   "source": [
    "### Tablica wygenerowana w sposób losowy"
   ]
  },
  {
   "cell_type": "code",
   "execution_count": 16,
   "metadata": {},
   "outputs": [
    {
     "data": {
      "text/plain": [
       "array([[  2,   5, -10,  -7,  -7,  -3,  -1,   9,   8,  -6],\n",
       "       [ -4,   2,  -9,  -4,  -3,   4,   7,  -5,   3,  -2],\n",
       "       [ -1,  10,   9,   6,   9,  -5,   5,   5, -10,   8],\n",
       "       [ -7,   7,   9,   9,   9,   4,  -3, -10,  -9,  -1],\n",
       "       [-10,   0,  10,  -7,   1,   8,  -8, -10, -10,  -6],\n",
       "       [ -5,  -4,  -2,  10,   7,   5,  -6,  -1,   0,  -9],\n",
       "       [ -9,  -3,  -1,  -7,  -4,   1,   4,   8, -10,   4],\n",
       "       [ -7,   2,   0,  10,   1,  -6,  -4,  -6,   5,  10],\n",
       "       [ -7,   2,  -6,  10,  -2,   4,   5,  10,  -7,   5],\n",
       "       [  3,   6,   7,  -5,  -1,  -7, -10,  -5, -10,   7]])"
      ]
     },
     "execution_count": 16,
     "metadata": {},
     "output_type": "execute_result"
    }
   ],
   "source": [
    "np.random.seed(0)\n",
    "arr = np.random.randint(-10, 11, size=(10,10))\n",
    "arr"
   ]
  },
  {
   "cell_type": "code",
   "execution_count": 18,
   "metadata": {},
   "outputs": [
    {
     "data": {
      "text/plain": [
       "array([  2,   5, -10,  -7,  -7,  -3,  -1,   9,   8,  -6])"
      ]
     },
     "execution_count": 18,
     "metadata": {},
     "output_type": "execute_result"
    }
   ],
   "source": [
    "arr[0] #pierwszy wiersz"
   ]
  },
  {
   "cell_type": "code",
   "execution_count": 19,
   "metadata": {},
   "outputs": [
    {
     "data": {
      "text/plain": [
       "array([-10,  -7])"
      ]
     },
     "execution_count": 19,
     "metadata": {},
     "output_type": "execute_result"
    }
   ],
   "source": [
    "arr[0, 2:4]"
   ]
  },
  {
   "cell_type": "code",
   "execution_count": 20,
   "metadata": {},
   "outputs": [
    {
     "data": {
      "text/plain": [
       "array([[ -6,   8,   9,  -1,  -3,  -7,  -7, -10,   5,   2],\n",
       "       [ -2,   3,  -5,   7,   4,  -3,  -4,  -9,   2,  -4],\n",
       "       [  8, -10,   5,   5,  -5,   9,   6,   9,  10,  -1],\n",
       "       [ -1,  -9, -10,  -3,   4,   9,   9,   9,   7,  -7],\n",
       "       [ -6, -10, -10,  -8,   8,   1,  -7,  10,   0, -10],\n",
       "       [ -9,   0,  -1,  -6,   5,   7,  10,  -2,  -4,  -5],\n",
       "       [  4, -10,   8,   4,   1,  -4,  -7,  -1,  -3,  -9],\n",
       "       [ 10,   5,  -6,  -4,  -6,   1,  10,   0,   2,  -7],\n",
       "       [  5,  -7,  10,   5,   4,  -2,  10,  -6,   2,  -7],\n",
       "       [  7, -10,  -5, -10,  -7,  -1,  -5,   7,   6,   3]])"
      ]
     },
     "execution_count": 20,
     "metadata": {},
     "output_type": "execute_result"
    }
   ],
   "source": [
    "arr[: ,::-1] #odwracanie kolumn"
   ]
  },
  {
   "cell_type": "code",
   "execution_count": 21,
   "metadata": {},
   "outputs": [
    {
     "data": {
      "text/plain": [
       "array([[  2,   5, -10,  -7,  -7,  -3,  -1,   9,   8,  -6],\n",
       "       [ -4,   2,  -9,  -4,  -3,   4,   7,  -5,   3,  -2],\n",
       "       [ -1,  10,   9,   6,   9,  -5,   5,   5, -10,   8],\n",
       "       [ -7,   7,   9,   9,   9,   4,  -3, -10,  -9,  -1],\n",
       "       [-10,   0,  10,  -7,   1,   8,  -8, -10, -10,  -6],\n",
       "       [ -5,  -4,  -2,  10,   7,   5,  -6,  -1,   0,  -9],\n",
       "       [ -9,  -3,  -1,  -7,  -4,   1,   4,   8, -10,   4],\n",
       "       [ -7,   2,   0,  10,   1,  -6,  -4,  -6,   5,  10],\n",
       "       [ -7,   2,  -6,  10,  -2,   4,   5,  10,  -7,   5],\n",
       "       [  3,   6,   7,  -5,  -1,  -7, -10,  -5, -10,   7]])"
      ]
     },
     "execution_count": 21,
     "metadata": {},
     "output_type": "execute_result"
    }
   ],
   "source": [
    "arr"
   ]
  },
  {
   "cell_type": "code",
   "execution_count": 22,
   "metadata": {},
   "outputs": [
    {
     "data": {
      "text/plain": [
       "array([[  8,  -6],\n",
       "       [  3,  -2],\n",
       "       [-10,   8],\n",
       "       [ -9,  -1],\n",
       "       [-10,  -6],\n",
       "       [  0,  -9],\n",
       "       [-10,   4],\n",
       "       [  5,  10],\n",
       "       [ -7,   5],\n",
       "       [-10,   7]])"
      ]
     },
     "execution_count": 22,
     "metadata": {},
     "output_type": "execute_result"
    }
   ],
   "source": [
    "arr[:, -2:]"
   ]
  },
  {
   "cell_type": "code",
   "execution_count": 23,
   "metadata": {},
   "outputs": [
    {
     "data": {
      "text/plain": [
       "array([[  5,   8],\n",
       "       [  2,   3],\n",
       "       [ 10, -10],\n",
       "       [  7,  -9],\n",
       "       [  0, -10]])"
      ]
     },
     "execution_count": 23,
     "metadata": {},
     "output_type": "execute_result"
    }
   ],
   "source": [
    "arr[:5, [1,-2]]"
   ]
  },
  {
   "cell_type": "code",
   "execution_count": 24,
   "metadata": {},
   "outputs": [
    {
     "data": {
      "text/plain": [
       "(10, 10)"
      ]
     },
     "execution_count": 24,
     "metadata": {},
     "output_type": "execute_result"
    }
   ],
   "source": [
    "arr.shape"
   ]
  },
  {
   "cell_type": "code",
   "execution_count": 25,
   "metadata": {},
   "outputs": [
    {
     "name": "stdout",
     "output_type": "stream",
     "text": [
      "==================================================\n",
      "[  2   5 -10  -7  -7  -3  -1   9   8  -6]\n",
      "==================================================\n",
      "[-4  2 -9 -4 -3  4  7 -5  3 -2]\n",
      "==================================================\n",
      "[ -1  10   9   6   9  -5   5   5 -10   8]\n",
      "==================================================\n",
      "[ -7   7   9   9   9   4  -3 -10  -9  -1]\n",
      "==================================================\n",
      "[-10   0  10  -7   1   8  -8 -10 -10  -6]\n",
      "==================================================\n",
      "[-5 -4 -2 10  7  5 -6 -1  0 -9]\n",
      "==================================================\n",
      "[ -9  -3  -1  -7  -4   1   4   8 -10   4]\n",
      "==================================================\n",
      "[-7  2  0 10  1 -6 -4 -6  5 10]\n",
      "==================================================\n",
      "[-7  2 -6 10 -2  4  5 10 -7  5]\n",
      "==================================================\n",
      "[  3   6   7  -5  -1  -7 -10  -5 -10   7]\n"
     ]
    }
   ],
   "source": [
    "for i in range(arr.shape[0]):\n",
    "    print(\"=\"*50)\n",
    "    print(arr[i])"
   ]
  },
  {
   "cell_type": "code",
   "execution_count": 26,
   "metadata": {},
   "outputs": [
    {
     "name": "stdout",
     "output_type": "stream",
     "text": [
      "==================================================\n",
      "[  2   5 -10  -7  -7  -3  -1   9   8  -6]\n",
      "==================================================\n",
      "[-4  2 -9 -4 -3  4  7 -5  3 -2]\n",
      "==================================================\n",
      "[ -1  10   9   6   9  -5   5   5 -10   8]\n",
      "==================================================\n",
      "[ -7   7   9   9   9   4  -3 -10  -9  -1]\n",
      "==================================================\n",
      "[-10   0  10  -7   1   8  -8 -10 -10  -6]\n",
      "==================================================\n",
      "[-5 -4 -2 10  7  5 -6 -1  0 -9]\n",
      "==================================================\n",
      "[ -9  -3  -1  -7  -4   1   4   8 -10   4]\n",
      "==================================================\n",
      "[-7  2  0 10  1 -6 -4 -6  5 10]\n",
      "==================================================\n",
      "[-7  2 -6 10 -2  4  5 10 -7  5]\n",
      "==================================================\n",
      "[  3   6   7  -5  -1  -7 -10  -5 -10   7]\n"
     ]
    }
   ],
   "source": [
    "for row in arr:\n",
    "    print(\"=\"*50)\n",
    "    print(row)"
   ]
  },
  {
   "cell_type": "code",
   "execution_count": 30,
   "metadata": {},
   "outputs": [
    {
     "name": "stdout",
     "output_type": "stream",
     "text": [
      "510 µs ± 15.1 µs per loop (mean ± std. dev. of 5 runs, 1000 loops each)\n"
     ]
    }
   ],
   "source": [
    "lista = range(1000)\n",
    "%timeit -r 5 -n 1000 [i**2 for i in lista]"
   ]
  },
  {
   "cell_type": "code",
   "execution_count": 32,
   "metadata": {},
   "outputs": [
    {
     "name": "stdout",
     "output_type": "stream",
     "text": [
      "2.67 µs ± 842 ns per loop (mean ± std. dev. of 5 runs, 1000 loops each)\n"
     ]
    }
   ],
   "source": [
    "arr = np.arange(1000)\n",
    "%timeit -r 5 -n 1000 arr**2"
   ]
  },
  {
   "cell_type": "raw",
   "metadata": {},
   "source": []
  },
  {
   "cell_type": "code",
   "execution_count": null,
   "metadata": {},
   "outputs": [],
   "source": []
  }
 ],
 "metadata": {
  "kernelspec": {
   "display_name": "Python 3",
   "language": "python",
   "name": "python3"
  },
  "language_info": {
   "codemirror_mode": {
    "name": "ipython",
    "version": 3
   },
   "file_extension": ".py",
   "mimetype": "text/x-python",
   "name": "python",
   "nbconvert_exporter": "python",
   "pygments_lexer": "ipython3",
   "version": "3.7.4"
  }
 },
 "nbformat": 4,
 "nbformat_minor": 4
}

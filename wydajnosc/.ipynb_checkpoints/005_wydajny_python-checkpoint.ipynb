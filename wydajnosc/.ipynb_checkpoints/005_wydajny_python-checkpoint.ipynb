{
 "cells": [
  {
   "cell_type": "markdown",
   "metadata": {},
   "source": [
    "# Optymalizacje\n",
    "\n",
    "## rozgrzewka - Tips and Tricks"
   ]
  },
  {
   "cell_type": "markdown",
   "metadata": {},
   "source": [
    "Trochę sztuczek i tricków. Niektóre mogą być przydatne przy optymalizacji. Potraktujmy to jako formę rozgrzewki"
   ]
  },
  {
   "cell_type": "code",
   "execution_count": 1,
   "metadata": {
    "ExecuteTime": {
     "end_time": "2020-01-07T18:37:58.759246Z",
     "start_time": "2020-01-07T18:37:58.751986Z"
    }
   },
   "outputs": [],
   "source": [
    "import dis"
   ]
  },
  {
   "cell_type": "markdown",
   "metadata": {},
   "source": [
    "#### bardziej zwięzłe wyrażenia warynkowe przypisujące wartości"
   ]
  },
  {
   "cell_type": "code",
   "execution_count": 2,
   "metadata": {
    "ExecuteTime": {
     "end_time": "2020-01-07T18:35:03.031822Z",
     "start_time": "2020-01-07T18:35:03.028632Z"
    }
   },
   "outputs": [],
   "source": [
    "condition = True"
   ]
  },
  {
   "cell_type": "code",
   "execution_count": 3,
   "metadata": {
    "ExecuteTime": {
     "end_time": "2020-01-07T18:35:25.546549Z",
     "start_time": "2020-01-07T18:35:23.001172Z"
    }
   },
   "outputs": [
    {
     "name": "stdout",
     "output_type": "stream",
     "text": [
      "33.3 ns ± 1.25 ns per loop (mean ± std. dev. of 7 runs, 10000000 loops each)\n"
     ]
    }
   ],
   "source": [
    "%%timeit\n",
    "if condition:\n",
    "    x = 1\n",
    "else:\n",
    "    x = 0"
   ]
  },
  {
   "cell_type": "code",
   "execution_count": null,
   "metadata": {
    "ExecuteTime": {
     "end_time": "2020-01-07T18:35:28.767522Z",
     "start_time": "2020-01-07T18:35:26.110038Z"
    }
   },
   "outputs": [],
   "source": [
    "%%timeit\n",
    "x = 1 if condition else 0"
   ]
  },
  {
   "cell_type": "code",
   "execution_count": 4,
   "metadata": {
    "ExecuteTime": {
     "end_time": "2020-01-07T18:35:09.010680Z",
     "start_time": "2020-01-07T18:35:09.003360Z"
    }
   },
   "outputs": [
    {
     "name": "stdout",
     "output_type": "stream",
     "text": [
      "  1           0 LOAD_NAME                0 (condition)\n",
      "              2 POP_JUMP_IF_FALSE       10\n",
      "\n",
      "  2           4 LOAD_CONST               0 (1)\n",
      "              6 STORE_NAME               1 (x)\n",
      "              8 JUMP_FORWARD             4 (to 14)\n",
      "\n",
      "  4     >>   10 LOAD_CONST               1 (0)\n",
      "             12 STORE_NAME               1 (x)\n",
      "        >>   14 LOAD_CONST               2 (None)\n",
      "             16 RETURN_VALUE\n"
     ]
    }
   ],
   "source": [
    "dis.dis(\"\"\"if condition:\n",
    "    x = 1\n",
    "else:\n",
    "    x = 0\"\"\")"
   ]
  },
  {
   "cell_type": "code",
   "execution_count": 5,
   "metadata": {
    "ExecuteTime": {
     "end_time": "2020-01-07T18:35:10.717089Z",
     "start_time": "2020-01-07T18:35:10.711582Z"
    },
    "scrolled": false
   },
   "outputs": [
    {
     "name": "stdout",
     "output_type": "stream",
     "text": [
      "  1           0 LOAD_NAME                0 (condition)\n",
      "              2 POP_JUMP_IF_FALSE        8\n",
      "              4 LOAD_CONST               0 (1)\n",
      "              6 JUMP_FORWARD             2 (to 10)\n",
      "        >>    8 LOAD_CONST               1 (0)\n",
      "        >>   10 STORE_NAME               1 (x)\n",
      "             12 LOAD_CONST               2 (None)\n",
      "             14 RETURN_VALUE\n"
     ]
    }
   ],
   "source": [
    "dis.dis(\"\"\"x = 1 if condition else 0\"\"\")"
   ]
  },
  {
   "cell_type": "markdown",
   "metadata": {},
   "source": [
    "#### Separator _ w liczbach"
   ]
  },
  {
   "cell_type": "code",
   "execution_count": 6,
   "metadata": {
    "ExecuteTime": {
     "end_time": "2020-01-07T19:52:18.362793Z",
     "start_time": "2020-01-07T19:52:18.356653Z"
    }
   },
   "outputs": [
    {
     "name": "stdout",
     "output_type": "stream",
     "text": [
      "10010000000\n"
     ]
    }
   ],
   "source": [
    "num1 = 10000000000\n",
    "num2 = 10000000\n",
    "\n",
    "print(num1 + num2)"
   ]
  },
  {
   "cell_type": "code",
   "execution_count": 7,
   "metadata": {
    "ExecuteTime": {
     "end_time": "2020-01-07T19:56:20.468098Z",
     "start_time": "2020-01-07T19:56:20.463551Z"
    }
   },
   "outputs": [
    {
     "name": "stdout",
     "output_type": "stream",
     "text": [
      "10_010_000_000\n"
     ]
    }
   ],
   "source": [
    "num1 = 10_000_000_000\n",
    "num2 = 10_000_000\n",
    "\n",
    "print(f'{num1 + num2:_}')"
   ]
  },
  {
   "cell_type": "markdown",
   "metadata": {},
   "source": [
    "#### iterowanie po kilku listach"
   ]
  },
  {
   "cell_type": "code",
   "execution_count": 8,
   "metadata": {
    "ExecuteTime": {
     "end_time": "2020-01-07T20:00:14.456021Z",
     "start_time": "2020-01-07T20:00:14.451916Z"
    }
   },
   "outputs": [],
   "source": [
    "names = ['Peter Parker', 'Clark Kent', 'Wade Wilson', 'Bruce Wayne']\n",
    "heroes = [\"Spiderman\", \"Superman\", \"Deadpool\", \"Batman\"]"
   ]
  },
  {
   "cell_type": "code",
   "execution_count": 9,
   "metadata": {
    "ExecuteTime": {
     "end_time": "2020-01-07T20:01:00.531003Z",
     "start_time": "2020-01-07T20:01:00.526008Z"
    }
   },
   "outputs": [
    {
     "name": "stdout",
     "output_type": "stream",
     "text": [
      "Peter Parker to Spiderman\n",
      "Clark Kent to Superman\n",
      "Wade Wilson to Deadpool\n",
      "Bruce Wayne to Batman\n"
     ]
    }
   ],
   "source": [
    "for i, name in enumerate(names):\n",
    "    hero = heroes[i]\n",
    "    print(f\"{name} to {hero}\")"
   ]
  },
  {
   "cell_type": "code",
   "execution_count": 10,
   "metadata": {
    "ExecuteTime": {
     "end_time": "2020-01-07T20:01:23.335541Z",
     "start_time": "2020-01-07T20:01:23.330311Z"
    }
   },
   "outputs": [
    {
     "name": "stdout",
     "output_type": "stream",
     "text": [
      "Peter Parker to Spiderman\n",
      "Clark Kent to Superman\n",
      "Wade Wilson to Deadpool\n",
      "Bruce Wayne to Batman\n"
     ]
    }
   ],
   "source": [
    "for name, hero in zip(names, heroes):\n",
    "    print(f\"{name} to {hero}\")"
   ]
  },
  {
   "cell_type": "code",
   "execution_count": 11,
   "metadata": {
    "ExecuteTime": {
     "end_time": "2020-01-07T20:03:44.387485Z",
     "start_time": "2020-01-07T20:03:44.379995Z"
    }
   },
   "outputs": [
    {
     "name": "stdout",
     "output_type": "stream",
     "text": [
      "Peter Parker to Spiderman from Marvel\n",
      "Clark Kent to Superman from DC\n",
      "Wade Wilson to Deadpool from Marvel\n",
      "Bruce Wayne to Batman from DC\n"
     ]
    }
   ],
   "source": [
    "universes = ['Marvel', 'DC', 'Marvel', 'DC']\n",
    "\n",
    "for name, hero, universe in zip(names, heroes, universes):\n",
    "    print(f\"{name} to {hero} from {universe}\")"
   ]
  },
  {
   "cell_type": "markdown",
   "metadata": {
    "ExecuteTime": {
     "end_time": "2020-01-07T20:05:36.101403Z",
     "start_time": "2020-01-07T20:05:36.096102Z"
    }
   },
   "source": [
    "#### Rozpakowywanie"
   ]
  },
  {
   "cell_type": "code",
   "execution_count": 13,
   "metadata": {
    "ExecuteTime": {
     "end_time": "2020-01-07T20:05:36.101403Z",
     "start_time": "2020-01-07T20:05:36.096102Z"
    }
   },
   "outputs": [
    {
     "name": "stdout",
     "output_type": "stream",
     "text": [
      "1 2 8\n"
     ]
    }
   ],
   "source": [
    "a, b, *_, d = (1, 2, 3, 4, 5, 6, 7, 8)  # czy to zadziała i jak?\n",
    "print(a, b, d)"
   ]
  },
  {
   "cell_type": "markdown",
   "metadata": {},
   "source": [
    "#### `type`, `hasattr`, `getattr`, `setattr`"
   ]
  },
  {
   "cell_type": "code",
   "execution_count": 14,
   "metadata": {
    "ExecuteTime": {
     "end_time": "2020-01-07T20:10:05.225365Z",
     "start_time": "2020-01-07T20:10:05.214931Z"
    }
   },
   "outputs": [
    {
     "name": "stdout",
     "output_type": "stream",
     "text": [
      "False\n",
      "True\n",
      "Corey\n",
      "Corey\n"
     ]
    }
   ],
   "source": [
    "class Person():\n",
    "    pass\n",
    "\n",
    "person = Person()\n",
    "\n",
    "print(hasattr(person, 'first_name'))\n",
    "setattr(person, 'first_name', 'Corey')\n",
    "print(hasattr(person, 'first_name'))\n",
    "print(person.first_name)\n",
    "\n",
    "key = 'first_name'\n",
    "value = getattr(person, key)\n",
    "print(value)"
   ]
  },
  {
   "cell_type": "code",
   "execution_count": 15,
   "metadata": {},
   "outputs": [
    {
     "name": "stdout",
     "output_type": "stream",
     "text": [
      "Help on class type in module builtins:\n",
      "\n",
      "class type(object)\n",
      " |  type(object_or_name, bases, dict)\n",
      " |  type(object) -> the object's type\n",
      " |  type(name, bases, dict) -> a new type\n",
      " |  \n",
      " |  Methods defined here:\n",
      " |  \n",
      " |  __call__(self, /, *args, **kwargs)\n",
      " |      Call self as a function.\n",
      " |  \n",
      " |  __delattr__(self, name, /)\n",
      " |      Implement delattr(self, name).\n",
      " |  \n",
      " |  __dir__(self, /)\n",
      " |      Specialized __dir__ implementation for types.\n",
      " |  \n",
      " |  __getattribute__(self, name, /)\n",
      " |      Return getattr(self, name).\n",
      " |  \n",
      " |  __init__(self, /, *args, **kwargs)\n",
      " |      Initialize self.  See help(type(self)) for accurate signature.\n",
      " |  \n",
      " |  __instancecheck__(self, instance, /)\n",
      " |      Check if an object is an instance.\n",
      " |  \n",
      " |  __repr__(self, /)\n",
      " |      Return repr(self).\n",
      " |  \n",
      " |  __setattr__(self, name, value, /)\n",
      " |      Implement setattr(self, name, value).\n",
      " |  \n",
      " |  __sizeof__(self, /)\n",
      " |      Return memory consumption of the type object.\n",
      " |  \n",
      " |  __subclasscheck__(self, subclass, /)\n",
      " |      Check if a class is a subclass.\n",
      " |  \n",
      " |  __subclasses__(self, /)\n",
      " |      Return a list of immediate subclasses.\n",
      " |  \n",
      " |  mro(self, /)\n",
      " |      Return a type's method resolution order.\n",
      " |  \n",
      " |  ----------------------------------------------------------------------\n",
      " |  Class methods defined here:\n",
      " |  \n",
      " |  __prepare__(...)\n",
      " |      __prepare__() -> dict\n",
      " |      used to create the namespace for the class statement\n",
      " |  \n",
      " |  ----------------------------------------------------------------------\n",
      " |  Static methods defined here:\n",
      " |  \n",
      " |  __new__(*args, **kwargs)\n",
      " |      Create and return a new object.  See help(type) for accurate signature.\n",
      " |  \n",
      " |  ----------------------------------------------------------------------\n",
      " |  Data descriptors defined here:\n",
      " |  \n",
      " |  __abstractmethods__\n",
      " |  \n",
      " |  __dict__\n",
      " |  \n",
      " |  __text_signature__\n",
      " |  \n",
      " |  ----------------------------------------------------------------------\n",
      " |  Data and other attributes defined here:\n",
      " |  \n",
      " |  __base__ = <class 'object'>\n",
      " |      The most base type\n",
      " |  \n",
      " |  __bases__ = (<class 'object'>,)\n",
      " |  \n",
      " |  __basicsize__ = 864\n",
      " |  \n",
      " |  __dictoffset__ = 264\n",
      " |  \n",
      " |  __flags__ = 2148291584\n",
      " |  \n",
      " |  __itemsize__ = 40\n",
      " |  \n",
      " |  __mro__ = (<class 'type'>, <class 'object'>)\n",
      " |  \n",
      " |  __weakrefoffset__ = 368\n",
      "\n",
      "None\n"
     ]
    }
   ],
   "source": [
    "print(help(type))"
   ]
  },
  {
   "cell_type": "code",
   "execution_count": 16,
   "metadata": {
    "ExecuteTime": {
     "end_time": "2020-01-07T20:33:04.346933Z",
     "start_time": "2020-01-07T20:33:04.336659Z"
    }
   },
   "outputs": [
    {
     "name": "stdout",
     "output_type": "stream",
     "text": [
      "<class 'type'>\n",
      "type\n",
      "<class '__main__.Dynamiczny'>\n"
     ]
    }
   ],
   "source": [
    "x = type(\"Dynamiczny\",(),{'ala': \"kot\"})\n",
    "print(type(x))\n",
    "print(type.__name__)\n",
    "x.ala\n",
    "\n",
    "y = x()\n",
    "print(type(y))\n"
   ]
  },
  {
   "cell_type": "markdown",
   "metadata": {
    "solution2": "hidden",
    "solution2_first": true
   },
   "source": [
    "##### Zadanie\n",
    "\n",
    "Korzystając z modułu `json`. \n",
    "Odczytaj plik musicians.json (jest w katalogu dane).\n",
    "\n",
    "Utwórz dynamicznie klasy i ich instancje - na podstawie pola type\n",
    "Ustaw instancjom atrybuty - bez atrybutu type\n",
    "Dodaj instancję do listy `instances`\n",
    "\n"
   ]
  },
  {
   "cell_type": "code",
   "execution_count": null,
   "metadata": {},
   "outputs": [],
   "source": [
    "#### hasło w konsoli"
   ]
  },
  {
   "cell_type": "code",
   "execution_count": 17,
   "metadata": {
    "ExecuteTime": {
     "end_time": "2020-01-07T21:31:17.518393Z",
     "start_time": "2020-01-07T21:31:14.026725Z"
    }
   },
   "outputs": [
    {
     "name": "stdout",
     "output_type": "stream",
     "text": [
      "Username: rkorzen\n",
      "Password: 123123123\n",
      "Logging in...\n"
     ]
    }
   ],
   "source": [
    "username = input(\"Username: \")\n",
    "password = input(\"Password: \")\n",
    "\n",
    "print(\"Logging in...\")"
   ]
  },
  {
   "cell_type": "code",
   "execution_count": 18,
   "metadata": {
    "ExecuteTime": {
     "end_time": "2020-01-07T20:39:26.450001Z",
     "start_time": "2020-01-07T20:39:26.430285Z"
    },
    "solution2": "hidden"
   },
   "outputs": [
    {
     "ename": "NameError",
     "evalue": "name 'json' is not defined",
     "output_type": "error",
     "traceback": [
      "\u001b[1;31m---------------------------------------------------------------------------\u001b[0m",
      "\u001b[1;31mNameError\u001b[0m                                 Traceback (most recent call last)",
      "\u001b[1;32m<ipython-input-18-6f44f57ed0d3>\u001b[0m in \u001b[0;36m<module>\u001b[1;34m\u001b[0m\n\u001b[0;32m      1\u001b[0m \u001b[1;32mwith\u001b[0m \u001b[0mopen\u001b[0m\u001b[1;33m(\u001b[0m\u001b[1;34m\"data/musicians.json\"\u001b[0m\u001b[1;33m)\u001b[0m \u001b[1;32mas\u001b[0m \u001b[0mf\u001b[0m\u001b[1;33m:\u001b[0m\u001b[1;33m\u001b[0m\u001b[1;33m\u001b[0m\u001b[0m\n\u001b[1;32m----> 2\u001b[1;33m     \u001b[0mdane\u001b[0m \u001b[1;33m=\u001b[0m \u001b[0mjson\u001b[0m\u001b[1;33m.\u001b[0m\u001b[0mload\u001b[0m\u001b[1;33m(\u001b[0m\u001b[0mf\u001b[0m\u001b[1;33m)\u001b[0m\u001b[1;33m\u001b[0m\u001b[1;33m\u001b[0m\u001b[0m\n\u001b[0m\u001b[0;32m      3\u001b[0m \u001b[1;33m\u001b[0m\u001b[0m\n\u001b[0;32m      4\u001b[0m \u001b[0minstances\u001b[0m \u001b[1;33m=\u001b[0m \u001b[1;33m[\u001b[0m\u001b[1;33m]\u001b[0m\u001b[1;33m\u001b[0m\u001b[1;33m\u001b[0m\u001b[0m\n\u001b[0;32m      5\u001b[0m \u001b[1;32mfor\u001b[0m \u001b[0mel\u001b[0m \u001b[1;32min\u001b[0m \u001b[0mdane\u001b[0m\u001b[1;33m:\u001b[0m\u001b[1;33m\u001b[0m\u001b[1;33m\u001b[0m\u001b[0m\n",
      "\u001b[1;31mNameError\u001b[0m: name 'json' is not defined"
     ]
    }
   ],
   "source": [
    "with open(\"data/musicians.json\") as f:\n",
    "    dane = json.load(f)\n",
    "\n",
    "instances = []\n",
    "for el in dane:\n",
    "    type_ = el.pop('type')\n",
    "    tmp_obj = type(type_, (),{})()\n",
    "    \n",
    "    for k, v in el.items():\n",
    "        setattr(tmp_obj, k, v)\n",
    "    instances.append(tmp_obj)\n",
    "instances"
   ]
  },
  {
   "cell_type": "code",
   "execution_count": 19,
   "metadata": {
    "ExecuteTime": {
     "end_time": "2020-01-07T21:31:43.815599Z",
     "start_time": "2020-01-07T21:31:38.010012Z"
    }
   },
   "outputs": [
    {
     "name": "stdout",
     "output_type": "stream",
     "text": [
      "Username: rkorzen\n",
      "Password: ········\n",
      "Logging in...\n"
     ]
    }
   ],
   "source": [
    "from getpass import getpass\n",
    "\n",
    "username = input(\"Username: \")\n",
    "password = getpass(\"Password: \")\n",
    "\n",
    "print(\"Logging in...\")"
   ]
  },
  {
   "cell_type": "markdown",
   "metadata": {},
   "source": [
    "#### generatory\n",
    "\n",
    "Problem - chcemy policzyć linie w pliku, ale jest na tyle duzy, że nie chcemy otworzyć go w całości i robić splitlines, a zrobić to w jakiś sprytniejszy sposób\n",
    "\n"
   ]
  },
  {
   "cell_type": "code",
   "execution_count": null,
   "metadata": {
    "ExecuteTime": {
     "end_time": "2020-01-07T21:36:45.679941Z",
     "start_time": "2020-01-07T21:36:45.590774Z"
    }
   },
   "outputs": [],
   "source": [
    "with open('data/movies.csv') as f:\n",
    "    print(sum([1 for line in f]))"
   ]
  },
  {
   "cell_type": "code",
   "execution_count": null,
   "metadata": {
    "ExecuteTime": {
     "end_time": "2020-01-07T21:39:20.681555Z",
     "start_time": "2020-01-07T21:39:20.675146Z"
    }
   },
   "outputs": [],
   "source": [
    "with open('data/movies.csv') as f:\n",
    "    file_gen = (row for row in f)\n",
    "\n",
    "print(type(file_gen))"
   ]
  },
  {
   "cell_type": "code",
   "execution_count": null,
   "metadata": {
    "ExecuteTime": {
     "end_time": "2020-01-07T21:40:26.816975Z",
     "start_time": "2020-01-07T21:40:26.808602Z"
    }
   },
   "outputs": [],
   "source": [
    "def file_gen(file_name):\n",
    "    for row in open(file_name):\n",
    "        yield row\n",
    "        \n",
    "wiersze = file_gen('data/moves.csv')\n",
    "wiersze"
   ]
  },
  {
   "cell_type": "code",
   "execution_count": null,
   "metadata": {
    "ExecuteTime": {
     "end_time": "2020-01-07T21:40:34.323605Z",
     "start_time": "2020-01-07T21:40:34.301794Z"
    }
   },
   "outputs": [],
   "source": [
    "next(wiersze)"
   ]
  },
  {
   "cell_type": "code",
   "execution_count": null,
   "metadata": {
    "ExecuteTime": {
     "end_time": "2020-01-07T21:40:43.029594Z",
     "start_time": "2020-01-07T21:40:43.022693Z"
    }
   },
   "outputs": [],
   "source": [
    "next(wiersze)"
   ]
  },
  {
   "cell_type": "code",
   "execution_count": null,
   "metadata": {
    "ExecuteTime": {
     "end_time": "2020-01-07T21:41:01.251219Z",
     "start_time": "2020-01-07T21:41:01.245418Z"
    }
   },
   "outputs": [],
   "source": [
    "for i in range(10):\n",
    "    print(next(wiersze))"
   ]
  },
  {
   "cell_type": "code",
   "execution_count": null,
   "metadata": {
    "ExecuteTime": {
     "end_time": "2020-01-07T21:42:38.965702Z",
     "start_time": "2020-01-07T21:42:38.959197Z"
    }
   },
   "outputs": [],
   "source": [
    "import sys\n",
    "sys.getsizeof(wiersze)"
   ]
  },
  {
   "cell_type": "markdown",
   "metadata": {
    "solution2": "hidden",
    "solution2_first": true
   },
   "source": [
    "##### Zadanie\n",
    "\n",
    "Napisz generator, który będzie zwracać kolejne potęgi dwójki. "
   ]
  },
  {
   "cell_type": "code",
   "execution_count": null,
   "metadata": {
    "ExecuteTime": {
     "end_time": "2020-01-07T21:50:25.635880Z",
     "start_time": "2020-01-07T21:50:25.629367Z"
    },
    "solution2": "hidden"
   },
   "outputs": [],
   "source": [
    "def potegi_dwojki():\n",
    "    i = 0\n",
    "    while True:\n",
    "        yield 2**i\n",
    "        i += 1\n",
    "\n",
    "c = potegi_dwojki()\n",
    "\n",
    "for i in range(10):\n",
    "    print(next(c))"
   ]
  },
  {
   "cell_type": "markdown",
   "metadata": {},
   "source": [
    "## Czasowo złożoność obliczeniowa\n",
    "\n",
    "Złożoność obliczeniową określamy jako funkcję danych wejściowych algorytmu. Wyznacza się ją licząc operacje potrzebne do jej wykoanania\n",
    "W praktyce wystarczą oszacowania takiej funkcji. Wprowadza się tu notacja Ο (dużego O), notacja Ω (omega) i notacja Θ (theta).\n",
    "\n",
    "Niektóre funkcje i określenia złożoności z nimi związane:\n",
    "\n",
    "* log(n)- złożoność logarytmiczna\n",
    "* n - złożoność liniowa\n",
    "* nlog(n) - złożoność liniowo-logarytmiczna\n",
    "* n<sup>2</sup> - złożoność kwadratowa\n",
    "* n<sup>k</sup>  - złożoność wielomianowa\n",
    "* 2<sup>n</sup>  - złożoność wykładnicza\n",
    "* n! - złożoność wykładnicza, ponieważ n!>2n już od n=4\n",
    "\n",
    "\n",
    "Przykład obrazujący wzrost czasu wykonania programu w zależności od jego czasowej założoności obliczeniowej\n",
    "\n",
    "* Duże \"O\", np O(n<sup>2</sup>) - górne asymptoryczne oszacowanie złożoności czasowej\n",
    "\n",
    "Przykład - algorytm sortowania bąbelkowego w najgorszym przypadku ma czas obliczeń rzędu O(n<sup>2</sup>). Nie oznacza to jednak, że za każdym razem czas będzie to taki czas. \n",
    "Jeśli np dane wejściowe będa posortowane, to czas obliczeń wyniesie zaledwie O(N) (nie mówimy tutaj o czasie w sensie czasu zegarowego, ale liczbie operacji dominujących). Tak więc notacja „O duże” informuje nas, że czas wykonywania tego algorytmu nie jest dłuży niż O(n<sup>2</sup>) - ale może być krótszy.\n",
    "\n",
    "\n",
    "* Duże \"Omega\" - np. Ω(N) - odnosi się ograniczenia asymptotycznego tempa wzrostu czasu wykonywania algorytmu od dołu.\n",
    "\n",
    "W tym przypadku chodzi o to, że np. algorytm sortowania bąbelkowego w najlepszym przypadku ma czas obliczeń rzędu Ω(N). Nie oznacza to jednak, że za każdym razem czas ten będzie taki sam. Jeżeli dana na wejściu tablica n elementowa nie będzie posortowana czas ten wyniesie Ω(n<sup>2</sup>). Tak więc notacja „Omega duże” informuje nas, że czas wykonywania danego algorytmu nie jest krótszy niż Ω(N) - ale może być dłuższy.\n",
    "\n",
    "* Notacja „Theta” (przykładowo: Θ(N2)) - to oszacowanie pomiędzy O i Omega\n",
    "\n",
    "Więcej informacji np. tutaj: https://www.samouczekprogramisty.pl/podstawy-zlozonosci-obliczeniowej/\n",
    "\n",
    "\n",
    "\n",
    "\n"
   ]
  },
  {
   "cell_type": "markdown",
   "metadata": {},
   "source": [
    "## Reguły optymalizacj: \n",
    "\n",
    "(https://wiki.c2.com/?RulesOfOptimization)\n",
    "\n",
    "Jeśli zamierzasz przystąpić do optymalizacji rozważ następujące reguły:\n",
    "\n",
    "1. Nie rób tego\n",
    "\n",
    "    Czy na pewno tego potrzebujesz?\n",
    "\n",
    "2. Nie rób tego ... jeszcze.\n",
    "\n",
    "    Jeśli potrzebujesz to:\n",
    "    1. Skończ swój kod\n",
    "    2. Napisz testy\n",
    "    3. Ok.. teraz możesz optymalizować\n",
    "\n",
    "3. Profiluj - przed optymalizacją\n",
    "    \n",
    "    Zanim zaczniesz coś zmieniać wykonaj profilowanie:\n",
    "    1. cProfile\n",
    "    2. pstats\n",
    "    3. RunSnakeRun SnakeViz"
   ]
  },
  {
   "cell_type": "markdown",
   "metadata": {},
   "source": [
    "### Poziomy optymalizacji:\n",
    "\n",
    "Wychodzimy tu poza optymalizacje sprzętowe. \n",
    "\n",
    "#### Projekt (desing)\n",
    "\n",
    "W pewnych sytuacjach korzystne, czy wręcz konieczne może być przepisanie projektu. \n",
    "\n",
    "Mogą to być:\n",
    "\n",
    "* zmiana technologi - niektóre języki po prostu są szybsze od innych. Ale często też i trudniej się w nich pisze.\n",
    "* zmiany w stosie technologicznym - może baza danych nie daje rady, może serwer jest za wolny? \n",
    "* architektury - np. przejście na rozwiązanie asynchroniczne, czy wieloprocesowe \n",
    "\n",
    "Tu prawdopodobnie można uzyskać najlepsze wyniki, ale jest to kosztowne. \n",
    "Trzeba dobrze wiedzieć czego się chce i co zastosować. \n",
    "Może się to opłacać dla krytcznych, często uruchamianych fragmentów systemu.\n",
    "\n",
    "#### Algorytmy i struktury danych.\n",
    "\n",
    "Stosując lepsze algorytmy możemy uzyskać znaczne przyspieszenie działania programu. Często trzeba tu nieźle pogłówkować, wpaśc na jakiś sprytny pomysł. Przydaje się wiedza z innych dziedzin - takich jak matematyka.\n",
    "\n",
    "Przykład. Jeśli chcemy zsumować liczby z jakiegoś zakresu, to możemy użyć pętli for:\n",
    "    "
   ]
  },
  {
   "cell_type": "code",
   "execution_count": 20,
   "metadata": {
    "ExecuteTime": {
     "end_time": "2020-01-07T19:25:35.437822Z",
     "start_time": "2020-01-07T19:25:35.434556Z"
    }
   },
   "outputs": [],
   "source": [
    "N = 500000"
   ]
  },
  {
   "cell_type": "code",
   "execution_count": 21,
   "metadata": {
    "ExecuteTime": {
     "end_time": "2020-01-07T19:25:37.024862Z",
     "start_time": "2020-01-07T19:25:36.544459Z"
    }
   },
   "outputs": [
    {
     "name": "stdout",
     "output_type": "stream",
     "text": [
      "37.6 ms ± 1.52 ms per loop (mean ± std. dev. of 7 runs, 2 loops each)\n"
     ]
    }
   ],
   "source": [
    "%%timeit -n2\n",
    "suma = 0\n",
    "for x in range(1, N+1):\n",
    "    suma += x"
   ]
  },
  {
   "cell_type": "markdown",
   "metadata": {},
   "source": [
    "Sumowanie musimy wykonać N razy. Więcj jest to złożonośc O(n). Znajac lepszy algorytm możemy wykonać te działanie szybciej, np. możemy wykorzystać wzór na sume N elementów."
   ]
  },
  {
   "cell_type": "code",
   "execution_count": 22,
   "metadata": {
    "ExecuteTime": {
     "end_time": "2020-01-07T19:27:36.143300Z",
     "start_time": "2020-01-07T19:27:36.136493Z"
    }
   },
   "outputs": [
    {
     "name": "stdout",
     "output_type": "stream",
     "text": [
      "The slowest run took 5.60 times longer than the fastest. This could mean that an intermediate result is being cached.\n",
      "450 ns ± 388 ns per loop (mean ± std. dev. of 7 runs, 2 loops each)\n"
     ]
    }
   ],
   "source": [
    "%timeit -n2 N * (1 + N) / 2"
   ]
  },
  {
   "cell_type": "markdown",
   "metadata": {},
   "source": [
    "#### Optymalizacja kodu źródłowego\n",
    "\n",
    "- poziom budowania aplikacji - ustawianie różnego rodzaju flag przy uruchamianiu, czy kompilowaniu kodu. Pozwala to na optymalizację kodu na poziomie maszyny\n",
    "- optymalizacje na poziomie kompilacji - niektóre kompilatory mogą być szybsze od innych\n",
    "- optymalizacje na poziomie środowiska uruchomieniowego -  tu może pomóc instalacja nowszej wersji oprogramowania\n",
    "- No i wreszcie - wykorzystanie samego języka w sposób optymalny\n",
    "\n"
   ]
  },
  {
   "cell_type": "markdown",
   "metadata": {},
   "source": [
    "#### Różne obszary optymalizacji\n",
    "\n",
    "Optymalizować mozemy zarówno szybkość, pamięć, zajmowaną przestrzeń dyskową, dyskowe i sieciowe operacje I/O, zużycie energii ..."
   ]
  },
  {
   "cell_type": "markdown",
   "metadata": {},
   "source": [
    "**<cite>Always code as if the guy who ends up maintaining yout code will be a violent psychopath who knows where your live</cite><br>\n",
    "<small>John Woods</small>**"
   ]
  },
  {
   "cell_type": "markdown",
   "metadata": {
    "ExecuteTime": {
     "end_time": "2020-01-06T21:49:22.270288Z",
     "start_time": "2020-01-06T21:49:22.267079Z"
    }
   },
   "source": [
    "### Wybrane przykłady optymalizacji kodu źródłowego"
   ]
  },
  {
   "cell_type": "markdown",
   "metadata": {},
   "source": [
    "#### Ile zajmuje zwykłe wywołanie funkcji i zwrócenie wartości?"
   ]
  },
  {
   "cell_type": "code",
   "execution_count": 23,
   "metadata": {
    "ExecuteTime": {
     "end_time": "2020-01-07T11:05:48.471066Z",
     "start_time": "2020-01-07T11:05:48.461624Z"
    }
   },
   "outputs": [],
   "source": [
    "def the_answer_to_life_universe_and_everything():\n",
    "    return 42"
   ]
  },
  {
   "cell_type": "code",
   "execution_count": 24,
   "metadata": {
    "ExecuteTime": {
     "end_time": "2020-01-07T11:05:48.486467Z",
     "start_time": "2020-01-07T11:05:48.473449Z"
    }
   },
   "outputs": [
    {
     "name": "stdout",
     "output_type": "stream",
     "text": [
      "83 ns ± 0.81 ns per loop (mean ± std. dev. of 7 runs, 10000 loops each)\n"
     ]
    }
   ],
   "source": [
    "%timeit -n10000 the_answer_to_life_universe_and_everything()"
   ]
  },
  {
   "cell_type": "markdown",
   "metadata": {},
   "source": [
    "\n",
    "\n",
    "7.5 miliona lat to ... 236520000000000 sekund"
   ]
  },
  {
   "cell_type": "code",
   "execution_count": 25,
   "metadata": {
    "ExecuteTime": {
     "end_time": "2020-01-07T11:05:48.506855Z",
     "start_time": "2020-01-07T11:05:48.489857Z"
    }
   },
   "outputs": [
    {
     "data": {
      "text/plain": [
       "236520000000000"
      ]
     },
     "execution_count": 25,
     "metadata": {},
     "output_type": "execute_result"
    }
   ],
   "source": [
    "sekundy = 7_500_000 * 365 * 24 * 60 * 60\n",
    "sekundy"
   ]
  },
  {
   "cell_type": "code",
   "execution_count": 26,
   "metadata": {
    "ExecuteTime": {
     "end_time": "2020-01-07T11:05:48.517277Z",
     "start_time": "2020-01-07T11:05:48.510487Z"
    }
   },
   "outputs": [
    {
     "data": {
      "text/plain": [
       "3.498816568047337e+21"
      ]
     },
     "execution_count": 26,
     "metadata": {},
     "output_type": "execute_result"
    }
   ],
   "source": [
    "(sekundy * 10 **9) / 67.6"
   ]
  },
  {
   "cell_type": "markdown",
   "metadata": {
    "ExecuteTime": {
     "end_time": "2020-01-06T22:06:41.748480Z",
     "start_time": "2020-01-06T22:06:41.730808Z"
    }
   },
   "source": [
    "Czyli ~ 3.5 x 10<sup>21</sup> szybciej niż w Autostopem przez Galaktykę ... :D. Nie jest źle.\n",
    "\n",
    "https://www.youtube.com/watch?v=aboZctrHfK8&t\n",
    "\n",
    "Dalej podobnie - będziemy pisać kod w różnych wersjach i porównywać ze sobą.. \n",
    "\n",
    "####  Zliczenie elementów w liście"
   ]
  },
  {
   "cell_type": "code",
   "execution_count": 27,
   "metadata": {
    "ExecuteTime": {
     "end_time": "2020-01-07T11:05:48.529539Z",
     "start_time": "2020-01-07T11:05:48.520752Z"
    }
   },
   "outputs": [],
   "source": [
    "MILION_ELEMENTS = [1]*1_000_000"
   ]
  },
  {
   "cell_type": "code",
   "execution_count": 28,
   "metadata": {
    "ExecuteTime": {
     "end_time": "2020-01-07T11:05:51.218684Z",
     "start_time": "2020-01-07T11:05:48.532705Z"
    }
   },
   "outputs": [
    {
     "name": "stdout",
     "output_type": "stream",
     "text": [
      "53 ms ± 924 µs per loop (mean ± std. dev. of 7 runs, 10 loops each)\n"
     ]
    }
   ],
   "source": [
    "%%timeit -n10\n",
    "\n",
    "how_many = 0\n",
    "for element in MILION_ELEMENTS:\n",
    "    how_many += 1\n"
   ]
  },
  {
   "cell_type": "code",
   "execution_count": 29,
   "metadata": {
    "ExecuteTime": {
     "end_time": "2020-01-07T11:05:51.228641Z",
     "start_time": "2020-01-07T11:05:51.221895Z"
    }
   },
   "outputs": [
    {
     "name": "stdout",
     "output_type": "stream",
     "text": [
      "150 ns ± 20.7 ns per loop (mean ± std. dev. of 7 runs, 10 loops each)\n"
     ]
    }
   ],
   "source": [
    "%timeit -n10 len(MILION_ELEMENTS)"
   ]
  },
  {
   "cell_type": "code",
   "execution_count": 30,
   "metadata": {
    "ExecuteTime": {
     "end_time": "2020-01-07T11:05:51.243138Z",
     "start_time": "2020-01-07T11:05:51.232652Z"
    }
   },
   "outputs": [],
   "source": [
    "ns = 1\n",
    "um = 100\n",
    "ms = 100_000\n",
    "s = 100_000_000"
   ]
  },
  {
   "cell_type": "code",
   "execution_count": 31,
   "metadata": {
    "ExecuteTime": {
     "end_time": "2020-01-07T11:05:51.252120Z",
     "start_time": "2020-01-07T11:05:51.245343Z"
    }
   },
   "outputs": [
    {
     "data": {
      "text/plain": [
       "34579.43925233645"
      ]
     },
     "execution_count": 31,
     "metadata": {},
     "output_type": "execute_result"
    }
   ],
   "source": [
    "37*ms / 107*ns"
   ]
  },
  {
   "cell_type": "markdown",
   "metadata": {},
   "source": [
    "#### Wybieranie z listy\n",
    "\n",
    "Problem: wybrać z listy określone elementy. Np. liczby parzyste."
   ]
  },
  {
   "cell_type": "code",
   "execution_count": 32,
   "metadata": {
    "ExecuteTime": {
     "end_time": "2020-01-07T11:05:51.313545Z",
     "start_time": "2020-01-07T11:05:51.255538Z"
    }
   },
   "outputs": [],
   "source": [
    "MILLION_ELEMENTS = list(range(1000000))"
   ]
  },
  {
   "cell_type": "code",
   "execution_count": 33,
   "metadata": {
    "ExecuteTime": {
     "end_time": "2020-01-07T11:05:55.930822Z",
     "start_time": "2020-01-07T11:05:51.318552Z"
    }
   },
   "outputs": [
    {
     "name": "stdout",
     "output_type": "stream",
     "text": [
      "101 ms ± 1.33 ms per loop (mean ± std. dev. of 7 runs, 10 loops each)\n"
     ]
    }
   ],
   "source": [
    "%%timeit -n10\n",
    "output = []\n",
    "for element in MILLION_ELEMENTS:\n",
    "    if element % 2:\n",
    "        output.append(element)\n",
    "            \n"
   ]
  },
  {
   "cell_type": "code",
   "execution_count": 34,
   "metadata": {
    "ExecuteTime": {
     "end_time": "2020-01-07T11:06:04.890109Z",
     "start_time": "2020-01-07T11:05:55.934960Z"
    }
   },
   "outputs": [
    {
     "name": "stdout",
     "output_type": "stream",
     "text": [
      "131 ms ± 1.77 ms per loop (mean ± std. dev. of 7 runs, 10 loops each)\n"
     ]
    }
   ],
   "source": [
    "%timeit -n10 list(filter(lambda x: x % 2, MILLION_ELEMENTS))"
   ]
  },
  {
   "cell_type": "code",
   "execution_count": 35,
   "metadata": {
    "ExecuteTime": {
     "end_time": "2020-01-07T11:06:08.872840Z",
     "start_time": "2020-01-07T11:06:04.893130Z"
    }
   },
   "outputs": [
    {
     "name": "stdout",
     "output_type": "stream",
     "text": [
      "75.5 ms ± 1.37 ms per loop (mean ± std. dev. of 7 runs, 10 loops each)\n"
     ]
    }
   ],
   "source": [
    "%timeit -n10 [x for x in MILLION_ELEMENTS if x % 2]"
   ]
  },
  {
   "cell_type": "markdown",
   "metadata": {},
   "source": [
    "#### Pytać o zgode, czy prosic o przebaczenie\n",
    "\n",
    "W niektórych przypadkach wydajniej jest spróbować coś zrobić i obsłużyć to jakoś w przypadku niepowodzenia. Np przy pomocy `try ... except`. \n",
    "Czasem jednak lepiej jest najpierw sprawdzić.\n"
   ]
  },
  {
   "cell_type": "code",
   "execution_count": 36,
   "metadata": {
    "ExecuteTime": {
     "end_time": "2020-01-07T11:06:08.882711Z",
     "start_time": "2020-01-07T11:06:08.876733Z"
    }
   },
   "outputs": [],
   "source": [
    "class Foo:\n",
    "    a1 = \"a\"\n",
    "    a2 = \"b\"\n",
    "    a3 = \"c\"\n",
    "\n",
    "foo = Foo()\n"
   ]
  },
  {
   "cell_type": "markdown",
   "metadata": {},
   "source": [
    "##### Podejście `ask for permission`"
   ]
  },
  {
   "cell_type": "code",
   "execution_count": 37,
   "metadata": {
    "ExecuteTime": {
     "end_time": "2020-01-07T11:06:08.901586Z",
     "start_time": "2020-01-07T11:06:08.885856Z"
    }
   },
   "outputs": [
    {
     "name": "stdout",
     "output_type": "stream",
     "text": [
      "299 ns ± 9.3 ns per loop (mean ± std. dev. of 7 runs, 100 loops each)\n"
     ]
    }
   ],
   "source": [
    "%%timeit -n100\n",
    "if hasattr(foo, 'a1'):\n",
    "    foo.a1"
   ]
  },
  {
   "cell_type": "markdown",
   "metadata": {},
   "source": [
    "##### Podejście `beg for forgiveness`"
   ]
  },
  {
   "cell_type": "code",
   "execution_count": 38,
   "metadata": {
    "ExecuteTime": {
     "end_time": "2020-01-07T11:06:08.913001Z",
     "start_time": "2020-01-07T11:06:08.905627Z"
    }
   },
   "outputs": [
    {
     "name": "stdout",
     "output_type": "stream",
     "text": [
      "64.4 ns ± 3.54 ns per loop (mean ± std. dev. of 7 runs, 100 loops each)\n"
     ]
    }
   ],
   "source": [
    "%%timeit -n100\n",
    "try:\n",
    "    foo.a1\n",
    "except AttributeError:\n",
    "    pass\n"
   ]
  },
  {
   "cell_type": "markdown",
   "metadata": {},
   "source": [
    "Jeszcze lepiej to widać przy większej ilości warunków"
   ]
  },
  {
   "cell_type": "code",
   "execution_count": null,
   "metadata": {
    "ExecuteTime": {
     "end_time": "2020-01-07T11:06:08.921958Z",
     "start_time": "2020-01-07T11:06:08.915454Z"
    }
   },
   "outputs": [],
   "source": [
    "%%timeit -n100 \n",
    "\n",
    "if (hasattr(foo, 'a1') and hasattr(foo, 'a2') and hasattr(foo, 'a3')):\n",
    "    foo.a1\n",
    "    foo.a2\n",
    "    foo.a3"
   ]
  },
  {
   "cell_type": "code",
   "execution_count": null,
   "metadata": {
    "ExecuteTime": {
     "end_time": "2020-01-07T11:06:08.932358Z",
     "start_time": "2020-01-07T11:06:08.924226Z"
    }
   },
   "outputs": [],
   "source": [
    "%%timeit -n100\n",
    "try:\n",
    "    foo.a1\n",
    "    foo.a2\n",
    "    foo.a3\n",
    "except AttributeError:\n",
    "    pass"
   ]
  },
  {
   "cell_type": "markdown",
   "metadata": {},
   "source": [
    "Jeśli atrybutu jednak rzeczywiście nie ma to obsługa błędu staje się kosztowniejsza:"
   ]
  },
  {
   "cell_type": "code",
   "execution_count": null,
   "metadata": {
    "ExecuteTime": {
     "end_time": "2020-01-07T11:06:08.940831Z",
     "start_time": "2020-01-07T11:06:08.936063Z"
    }
   },
   "outputs": [],
   "source": [
    "class Bar:\n",
    "    pass\n",
    "\n",
    "\n",
    "bar = Bar()"
   ]
  },
  {
   "cell_type": "code",
   "execution_count": null,
   "metadata": {
    "ExecuteTime": {
     "end_time": "2020-01-07T11:06:08.952004Z",
     "start_time": "2020-01-07T11:06:08.944483Z"
    }
   },
   "outputs": [],
   "source": [
    "%%timeit -n100\n",
    "\n",
    "if hasattr(bar, 'hello'):\n",
    "    bar.hello"
   ]
  },
  {
   "cell_type": "code",
   "execution_count": null,
   "metadata": {
    "ExecuteTime": {
     "end_time": "2020-01-07T11:06:08.964390Z",
     "start_time": "2020-01-07T11:06:08.958570Z"
    }
   },
   "outputs": [],
   "source": [
    "%%timeit -n100\n",
    "try: \n",
    "    bar.hello\n",
    "except AttributeError:\n",
    "    pass\n"
   ]
  },
  {
   "cell_type": "markdown",
   "metadata": {},
   "source": [
    "* Jeśli spodziewamy się częstych problemów z atrybutami, to lepsze będzie podejście \"ask for perrmission\". \n",
    "* Jeśli takich sytuacji spodziewamy się rzadko, to przewagę da podejście \"beg for forgiveness\""
   ]
  },
  {
   "cell_type": "markdown",
   "metadata": {},
   "source": [
    "#### Sprawdzanie przynależności - membership"
   ]
  },
  {
   "cell_type": "code",
   "execution_count": 39,
   "metadata": {
    "ExecuteTime": {
     "end_time": "2020-01-07T11:06:08.971797Z",
     "start_time": "2020-01-07T11:06:08.967231Z"
    }
   },
   "outputs": [],
   "source": [
    "def check_membership(number):\n",
    "    for item in MILLION_ELEMENTS:\n",
    "        if item == number:\n",
    "            return True\n",
    "    return False\n",
    "\n"
   ]
  },
  {
   "cell_type": "code",
   "execution_count": 40,
   "metadata": {
    "ExecuteTime": {
     "end_time": "2020-01-07T11:06:08.984764Z",
     "start_time": "2020-01-07T11:06:08.978342Z"
    }
   },
   "outputs": [
    {
     "name": "stdout",
     "output_type": "stream",
     "text": [
      "296 ns ± 63.4 ns per loop (mean ± std. dev. of 7 runs, 10 loops each)\n"
     ]
    }
   ],
   "source": [
    "%timeit -n10 check_membership(1)"
   ]
  },
  {
   "cell_type": "code",
   "execution_count": 41,
   "metadata": {
    "ExecuteTime": {
     "end_time": "2020-01-07T11:06:23.287921Z",
     "start_time": "2020-01-07T11:06:08.988488Z"
    }
   },
   "outputs": [
    {
     "name": "stdout",
     "output_type": "stream",
     "text": [
      "17.1 ms ± 177 µs per loop (mean ± std. dev. of 7 runs, 100 loops each)\n"
     ]
    }
   ],
   "source": [
    "%timeit -n100 check_membership(500000)"
   ]
  },
  {
   "cell_type": "code",
   "execution_count": 42,
   "metadata": {
    "ExecuteTime": {
     "end_time": "2020-01-07T11:06:44.183331Z",
     "start_time": "2020-01-07T11:06:23.292832Z"
    }
   },
   "outputs": [
    {
     "name": "stdout",
     "output_type": "stream",
     "text": [
      "33.8 ms ± 270 µs per loop (mean ± std. dev. of 7 runs, 100 loops each)\n"
     ]
    }
   ],
   "source": [
    "%timeit -n100 check_membership(1000000)"
   ]
  },
  {
   "cell_type": "code",
   "execution_count": 43,
   "metadata": {
    "ExecuteTime": {
     "end_time": "2020-01-07T11:06:44.191784Z",
     "start_time": "2020-01-07T11:06:44.185724Z"
    }
   },
   "outputs": [],
   "source": [
    "def check_membership2(number):\n",
    "    return number in MILLION_ELEMENTS"
   ]
  },
  {
   "cell_type": "code",
   "execution_count": 44,
   "metadata": {
    "ExecuteTime": {
     "end_time": "2020-01-07T11:06:44.221856Z",
     "start_time": "2020-01-07T11:06:44.194540Z"
    }
   },
   "outputs": [
    {
     "name": "stdout",
     "output_type": "stream",
     "text": [
      "158 ns ± 5.12 ns per loop (mean ± std. dev. of 7 runs, 100 loops each)\n"
     ]
    }
   ],
   "source": [
    "%timeit -n100 check_membership2(1)"
   ]
  },
  {
   "cell_type": "code",
   "execution_count": 45,
   "metadata": {
    "ExecuteTime": {
     "end_time": "2020-01-07T11:06:48.200176Z",
     "start_time": "2020-01-07T11:06:44.226622Z"
    }
   },
   "outputs": [
    {
     "name": "stdout",
     "output_type": "stream",
     "text": [
      "8.85 ms ± 248 µs per loop (mean ± std. dev. of 7 runs, 100 loops each)\n"
     ]
    }
   ],
   "source": [
    "%timeit -n100 check_membership2(500000)"
   ]
  },
  {
   "cell_type": "markdown",
   "metadata": {},
   "source": [
    "**Oba podejścia nadal przechodzą przez całą listę.** \n",
    "\n",
    "Jeśli szukamy liczby z początku listy to mamy szczeście, jeśli z końca to musimy poczekać.\n",
    "\n",
    "Przydałaby się struktura danych ze stałym czasem dostępu. Takimi strukturami są np. `set` i `dict`"
   ]
  },
  {
   "cell_type": "code",
   "execution_count": 46,
   "metadata": {
    "ExecuteTime": {
     "end_time": "2020-01-07T11:06:48.254308Z",
     "start_time": "2020-01-07T11:06:48.202565Z"
    }
   },
   "outputs": [],
   "source": [
    "MILLION_SET = set(MILLION_ELEMENTS)"
   ]
  },
  {
   "cell_type": "code",
   "execution_count": 47,
   "metadata": {
    "ExecuteTime": {
     "end_time": "2020-01-07T11:06:48.262236Z",
     "start_time": "2020-01-07T11:06:48.256602Z"
    }
   },
   "outputs": [
    {
     "name": "stdout",
     "output_type": "stream",
     "text": [
      "54.1 ns ± 2.42 ns per loop (mean ± std. dev. of 7 runs, 100 loops each)\n"
     ]
    }
   ],
   "source": [
    "%timeit -n100 1 in MILLION_SET"
   ]
  },
  {
   "cell_type": "code",
   "execution_count": 48,
   "metadata": {
    "ExecuteTime": {
     "end_time": "2020-01-07T11:06:48.269068Z",
     "start_time": "2020-01-07T11:06:48.264190Z"
    }
   },
   "outputs": [
    {
     "name": "stdout",
     "output_type": "stream",
     "text": [
      "72.9 ns ± 4.19 ns per loop (mean ± std. dev. of 7 runs, 100 loops each)\n"
     ]
    }
   ],
   "source": [
    "%timeit -n100 999999 in MILLION_SET"
   ]
  },
  {
   "cell_type": "markdown",
   "metadata": {},
   "source": [
    "**Ale!! Zamiana listy na set jest kosztowna!**\n",
    "\n",
    "Opłaca się to robić więc tylko wtedy, gdy takich sprawdzeń robimy dużo. Najpierw zamieniamy listę na set a potem sprawdzamy. "
   ]
  },
  {
   "cell_type": "code",
   "execution_count": 49,
   "metadata": {
    "ExecuteTime": {
     "end_time": "2020-01-07T11:06:48.988963Z",
     "start_time": "2020-01-07T11:06:48.271946Z"
    }
   },
   "outputs": [
    {
     "name": "stdout",
     "output_type": "stream",
     "text": [
      "56.5 ms ± 3.23 ms per loop (mean ± std. dev. of 7 runs, 2 loops each)\n"
     ]
    }
   ],
   "source": [
    "%timeit -n2 set(MILLION_ELEMENTS)"
   ]
  },
  {
   "cell_type": "markdown",
   "metadata": {},
   "source": [
    "#### Usuwanie duplikatów\n",
    "\n",
    "Trzeba tez pamiętać o tym, że w zbiorze nie ma powtórzeń! Zamiana na set jest najszybszym sposobem pozbycia sie duplikatów. Poniżej koszmarny alogrytm - złożoność O(n<sup>2</sup>):"
   ]
  },
  {
   "cell_type": "code",
   "execution_count": 50,
   "metadata": {
    "ExecuteTime": {
     "end_time": "2020-01-07T11:10:02.254590Z",
     "start_time": "2020-01-07T11:10:02.249132Z"
    }
   },
   "outputs": [],
   "source": [
    "ELEMENTS = list(range(1, 1001))"
   ]
  },
  {
   "cell_type": "code",
   "execution_count": 51,
   "metadata": {
    "ExecuteTime": {
     "end_time": "2020-01-07T11:10:04.053665Z",
     "start_time": "2020-01-07T11:10:03.947264Z"
    }
   },
   "outputs": [
    {
     "name": "stdout",
     "output_type": "stream",
     "text": [
      "8.38 ms ± 764 µs per loop (mean ± std. dev. of 7 runs, 2 loops each)\n"
     ]
    }
   ],
   "source": [
    "%%timeit -n2\n",
    "\n",
    "unique = []\n",
    "for element in ELEMENTS:\n",
    "    if element not in unique:\n",
    "        unique.append(element)"
   ]
  },
  {
   "cell_type": "markdown",
   "metadata": {
    "ExecuteTime": {
     "end_time": "2020-01-07T11:06:50.151697Z",
     "start_time": "2020-01-07T11:06:48.997383Z"
    }
   },
   "source": [
    "I szybki sposób"
   ]
  },
  {
   "cell_type": "code",
   "execution_count": 52,
   "metadata": {
    "ExecuteTime": {
     "end_time": "2020-01-07T11:10:17.982919Z",
     "start_time": "2020-01-07T11:10:17.964803Z"
    }
   },
   "outputs": [
    {
     "name": "stdout",
     "output_type": "stream",
     "text": [
      "32.6 µs ± 3.52 µs per loop (mean ± std. dev. of 7 runs, 2 loops each)\n"
     ]
    }
   ],
   "source": [
    "%timeit -n2 set(ELEMENTS)"
   ]
  },
  {
   "cell_type": "markdown",
   "metadata": {},
   "source": [
    "#### Sortowanie list"
   ]
  },
  {
   "cell_type": "code",
   "execution_count": 56,
   "metadata": {
    "ExecuteTime": {
     "end_time": "2020-01-07T11:16:44.955307Z",
     "start_time": "2020-01-07T11:16:44.791192Z"
    }
   },
   "outputs": [],
   "source": [
    "import random\n",
    "\n",
    "RANDOM_NUMBERS = [random.random() for i in range(1000000)]"
   ]
  },
  {
   "cell_type": "code",
   "execution_count": 57,
   "metadata": {
    "ExecuteTime": {
     "end_time": "2020-01-07T11:18:04.815866Z",
     "start_time": "2020-01-07T11:18:03.313129Z"
    }
   },
   "outputs": [
    {
     "name": "stdout",
     "output_type": "stream",
     "text": [
      "386 ms ± 9.22 ms per loop (mean ± std. dev. of 7 runs, 3 loops each)\n"
     ]
    }
   ],
   "source": [
    "%timeit -n3 sorted(RANDOM_NUMBERS)"
   ]
  },
  {
   "cell_type": "code",
   "execution_count": 58,
   "metadata": {
    "ExecuteTime": {
     "end_time": "2020-01-07T11:18:07.806832Z",
     "start_time": "2020-01-07T11:18:07.168145Z"
    }
   },
   "outputs": [
    {
     "name": "stdout",
     "output_type": "stream",
     "text": [
      "69.1 ms ± 37.8 ms per loop (mean ± std. dev. of 7 runs, 3 loops each)\n"
     ]
    }
   ],
   "source": [
    "%timeit -n3 RANDOM_NUMBERS.sort()"
   ]
  },
  {
   "cell_type": "markdown",
   "metadata": {},
   "source": [
    "#### Wiele operacji z jedną funkcją.\n"
   ]
  },
  {
   "cell_type": "code",
   "execution_count": 59,
   "metadata": {
    "ExecuteTime": {
     "end_time": "2020-01-07T11:20:26.625009Z",
     "start_time": "2020-01-07T11:20:26.621423Z"
    }
   },
   "outputs": [],
   "source": [
    "def kwadrat(n):\n",
    "    return n**2"
   ]
  },
  {
   "cell_type": "code",
   "execution_count": 60,
   "metadata": {
    "ExecuteTime": {
     "end_time": "2020-01-07T11:23:06.749832Z",
     "start_time": "2020-01-07T11:22:43.581142Z"
    }
   },
   "outputs": [
    {
     "name": "stdout",
     "output_type": "stream",
     "text": [
      "563 µs ± 2.35 µs per loop (mean ± std. dev. of 7 runs, 10000 loops each)\n"
     ]
    }
   ],
   "source": [
    "%timeit -n10000 [kwadrat(i) for i in range(1000)]"
   ]
  },
  {
   "cell_type": "code",
   "execution_count": 61,
   "metadata": {
    "ExecuteTime": {
     "end_time": "2020-01-07T11:23:07.822691Z",
     "start_time": "2020-01-07T11:23:07.816650Z"
    }
   },
   "outputs": [],
   "source": [
    "def oblicz_kwadraty():\n",
    "    return [i**2 for i in range(1000)]"
   ]
  },
  {
   "cell_type": "code",
   "execution_count": 62,
   "metadata": {
    "ExecuteTime": {
     "end_time": "2020-01-07T11:23:29.476913Z",
     "start_time": "2020-01-07T11:23:08.784257Z"
    }
   },
   "outputs": [
    {
     "name": "stdout",
     "output_type": "stream",
     "text": [
      "478 µs ± 5.48 µs per loop (mean ± std. dev. of 7 runs, 10000 loops each)\n"
     ]
    }
   ],
   "source": [
    "%timeit -n10000 oblicz_kwadraty()"
   ]
  },
  {
   "cell_type": "markdown",
   "metadata": {},
   "source": [
    "#### Instrukcje warunkowe, testowanie prawdy i fałszu, sprawdzanie czy struktury są puste czy nie"
   ]
  },
  {
   "cell_type": "code",
   "execution_count": 63,
   "metadata": {
    "ExecuteTime": {
     "end_time": "2020-01-07T12:24:55.149923Z",
     "start_time": "2020-01-07T12:24:55.146487Z"
    }
   },
   "outputs": [],
   "source": [
    "v1 = True\n",
    "v2 = False"
   ]
  },
  {
   "cell_type": "code",
   "execution_count": 64,
   "metadata": {
    "ExecuteTime": {
     "end_time": "2020-01-07T12:25:43.450223Z",
     "start_time": "2020-01-07T12:25:40.642285Z"
    }
   },
   "outputs": [
    {
     "name": "stdout",
     "output_type": "stream",
     "text": [
      "44.8 ns ± 2.03 ns per loop (mean ± std. dev. of 7 runs, 10000000 loops each)\n"
     ]
    }
   ],
   "source": [
    "%%timeit \n",
    "if v1 == True:\n",
    "    pass"
   ]
  },
  {
   "cell_type": "code",
   "execution_count": 65,
   "metadata": {
    "ExecuteTime": {
     "end_time": "2020-01-07T12:26:08.673916Z",
     "start_time": "2020-01-07T12:26:05.807823Z"
    }
   },
   "outputs": [
    {
     "name": "stdout",
     "output_type": "stream",
     "text": [
      "44.1 ns ± 0.897 ns per loop (mean ± std. dev. of 7 runs, 10000000 loops each)\n"
     ]
    }
   ],
   "source": [
    "%%timeit\n",
    "if v2 == True:\n",
    "    pass"
   ]
  },
  {
   "cell_type": "code",
   "execution_count": 66,
   "metadata": {
    "ExecuteTime": {
     "end_time": "2020-01-07T12:26:30.442884Z",
     "start_time": "2020-01-07T12:26:28.117792Z"
    }
   },
   "outputs": [
    {
     "name": "stdout",
     "output_type": "stream",
     "text": [
      "38.2 ns ± 1.12 ns per loop (mean ± std. dev. of 7 runs, 10000000 loops each)\n"
     ]
    }
   ],
   "source": [
    "%%timeit\n",
    "if v1 is True:\n",
    "    pass"
   ]
  },
  {
   "cell_type": "code",
   "execution_count": 67,
   "metadata": {
    "ExecuteTime": {
     "end_time": "2020-01-07T12:26:43.445618Z",
     "start_time": "2020-01-07T12:26:40.997601Z"
    }
   },
   "outputs": [
    {
     "name": "stdout",
     "output_type": "stream",
     "text": [
      "34.3 ns ± 0.5 ns per loop (mean ± std. dev. of 7 runs, 10000000 loops each)\n"
     ]
    }
   ],
   "source": [
    "%%timeit\n",
    "if v2 is True:\n",
    "    pass"
   ]
  },
  {
   "cell_type": "code",
   "execution_count": 68,
   "metadata": {
    "ExecuteTime": {
     "end_time": "2020-01-07T12:27:08.868784Z",
     "start_time": "2020-01-07T12:27:07.119252Z"
    }
   },
   "outputs": [
    {
     "name": "stdout",
     "output_type": "stream",
     "text": [
      "28.2 ns ± 1.97 ns per loop (mean ± std. dev. of 7 runs, 10000000 loops each)\n"
     ]
    }
   ],
   "source": [
    "%%timeit\n",
    "if v1:\n",
    "    pass"
   ]
  },
  {
   "cell_type": "code",
   "execution_count": 69,
   "metadata": {
    "ExecuteTime": {
     "end_time": "2020-01-07T12:27:11.988727Z",
     "start_time": "2020-01-07T12:27:10.196081Z"
    }
   },
   "outputs": [
    {
     "name": "stdout",
     "output_type": "stream",
     "text": [
      "26.5 ns ± 2.42 ns per loop (mean ± std. dev. of 7 runs, 10000000 loops each)\n"
     ]
    }
   ],
   "source": [
    "%%timeit\n",
    "if v2:\n",
    "    pass"
   ]
  },
  {
   "cell_type": "code",
   "execution_count": 70,
   "metadata": {
    "ExecuteTime": {
     "end_time": "2020-01-07T12:28:33.433601Z",
     "start_time": "2020-01-07T12:28:31.547571Z"
    }
   },
   "outputs": [
    {
     "name": "stdout",
     "output_type": "stream",
     "text": [
      "27.9 ns ± 0.513 ns per loop (mean ± std. dev. of 7 runs, 10000000 loops each)\n"
     ]
    }
   ],
   "source": [
    "%%timeit\n",
    "if not v2:\n",
    "    pass"
   ]
  },
  {
   "cell_type": "markdown",
   "metadata": {},
   "source": [
    "Podobnie możemy zoptymalizować czy struktury danych są puste"
   ]
  },
  {
   "cell_type": "code",
   "execution_count": 71,
   "metadata": {
    "ExecuteTime": {
     "end_time": "2020-01-07T12:32:29.510798Z",
     "start_time": "2020-01-07T12:32:29.507866Z"
    }
   },
   "outputs": [],
   "source": [
    "lista = []"
   ]
  },
  {
   "cell_type": "code",
   "execution_count": 72,
   "metadata": {
    "ExecuteTime": {
     "end_time": "2020-01-07T12:32:35.923375Z",
     "start_time": "2020-01-07T12:32:29.747520Z"
    }
   },
   "outputs": [
    {
     "name": "stdout",
     "output_type": "stream",
     "text": [
      "112 ns ± 3.16 ns per loop (mean ± std. dev. of 7 runs, 10000000 loops each)\n"
     ]
    }
   ],
   "source": [
    "%%timeit\n",
    "\n",
    "if len(lista) == 0:\n",
    "    pass"
   ]
  },
  {
   "cell_type": "code",
   "execution_count": 73,
   "metadata": {
    "ExecuteTime": {
     "end_time": "2020-01-07T12:33:01.687271Z",
     "start_time": "2020-01-07T12:32:57.798178Z"
    }
   },
   "outputs": [
    {
     "name": "stdout",
     "output_type": "stream",
     "text": [
      "70.7 ns ± 4.93 ns per loop (mean ± std. dev. of 7 runs, 10000000 loops each)\n"
     ]
    }
   ],
   "source": [
    "%%timeit\n",
    "\n",
    "if lista == []:\n",
    "    pass"
   ]
  },
  {
   "cell_type": "code",
   "execution_count": 74,
   "metadata": {
    "ExecuteTime": {
     "end_time": "2020-01-07T12:33:52.777895Z",
     "start_time": "2020-01-07T12:33:50.667585Z"
    }
   },
   "outputs": [
    {
     "name": "stdout",
     "output_type": "stream",
     "text": [
      "41 ns ± 1.46 ns per loop (mean ± std. dev. of 7 runs, 10000000 loops each)\n"
     ]
    }
   ],
   "source": [
    "%%timeit\n",
    "\n",
    "if not lista:\n",
    "    pass"
   ]
  },
  {
   "cell_type": "markdown",
   "metadata": {},
   "source": [
    "#### Czy jest różnica w szybkości między zwykłą funkcją a lambdą?\n"
   ]
  },
  {
   "cell_type": "code",
   "execution_count": null,
   "metadata": {
    "ExecuteTime": {
     "end_time": "2020-01-07T12:36:20.878781Z",
     "start_time": "2020-01-07T12:36:20.874982Z"
    }
   },
   "outputs": [],
   "source": [
    "def hello1(name):\n",
    "    return f\"Hello {name}\"\n",
    "\n",
    "hello2 = lambda name: f\"Hello {name}\""
   ]
  },
  {
   "cell_type": "code",
   "execution_count": null,
   "metadata": {
    "ExecuteTime": {
     "end_time": "2020-01-07T12:37:50.979078Z",
     "start_time": "2020-01-07T12:37:39.003954Z"
    }
   },
   "outputs": [],
   "source": [
    "%timeit hello1(\"Rafał\")"
   ]
  },
  {
   "cell_type": "code",
   "execution_count": null,
   "metadata": {
    "ExecuteTime": {
     "end_time": "2020-01-07T12:38:03.816503Z",
     "start_time": "2020-01-07T12:37:51.876024Z"
    }
   },
   "outputs": [],
   "source": [
    "%timeit hello2(\"Rafał\")"
   ]
  },
  {
   "cell_type": "code",
   "execution_count": null,
   "metadata": {
    "ExecuteTime": {
     "end_time": "2020-01-07T12:38:40.791951Z",
     "start_time": "2020-01-07T12:38:40.783491Z"
    }
   },
   "outputs": [],
   "source": [
    "import dis\n",
    "dis.dis(hello1)"
   ]
  },
  {
   "cell_type": "code",
   "execution_count": null,
   "metadata": {
    "ExecuteTime": {
     "end_time": "2020-01-07T12:38:46.964322Z",
     "start_time": "2020-01-07T12:38:46.958121Z"
    }
   },
   "outputs": [],
   "source": [
    "dis.dis(hello2)"
   ]
  },
  {
   "cell_type": "markdown",
   "metadata": {},
   "source": [
    "#### `list()` czy `[]`"
   ]
  },
  {
   "cell_type": "code",
   "execution_count": 75,
   "metadata": {
    "ExecuteTime": {
     "end_time": "2020-01-07T12:40:30.797379Z",
     "start_time": "2020-01-07T12:40:22.689969Z"
    }
   },
   "outputs": [
    {
     "name": "stdout",
     "output_type": "stream",
     "text": [
      "113 ns ± 4.6 ns per loop (mean ± std. dev. of 7 runs, 10000000 loops each)\n"
     ]
    }
   ],
   "source": [
    "%timeit list()"
   ]
  },
  {
   "cell_type": "code",
   "execution_count": 76,
   "metadata": {
    "ExecuteTime": {
     "end_time": "2020-01-07T12:40:37.483090Z",
     "start_time": "2020-01-07T12:40:35.634172Z"
    }
   },
   "outputs": [
    {
     "name": "stdout",
     "output_type": "stream",
     "text": [
      "29.1 ns ± 2.45 ns per loop (mean ± std. dev. of 7 runs, 10000000 loops each)\n"
     ]
    }
   ],
   "source": [
    "%timeit []"
   ]
  },
  {
   "cell_type": "code",
   "execution_count": 77,
   "metadata": {
    "ExecuteTime": {
     "end_time": "2020-01-07T12:41:15.387152Z",
     "start_time": "2020-01-07T12:41:15.375161Z"
    }
   },
   "outputs": [
    {
     "name": "stdout",
     "output_type": "stream",
     "text": [
      "  1           0 BUILD_LIST               0\n",
      "              2 RETURN_VALUE\n"
     ]
    }
   ],
   "source": [
    "dis.dis('[]')"
   ]
  },
  {
   "cell_type": "code",
   "execution_count": 78,
   "metadata": {
    "ExecuteTime": {
     "end_time": "2020-01-07T12:41:25.926791Z",
     "start_time": "2020-01-07T12:41:25.921964Z"
    }
   },
   "outputs": [
    {
     "name": "stdout",
     "output_type": "stream",
     "text": [
      "  1           0 LOAD_NAME                0 (list)\n",
      "              2 CALL_FUNCTION            0\n",
      "              4 RETURN_VALUE\n"
     ]
    }
   ],
   "source": [
    "dis.dis('list()')"
   ]
  },
  {
   "cell_type": "code",
   "execution_count": 79,
   "metadata": {
    "ExecuteTime": {
     "end_time": "2020-01-07T12:41:57.917928Z",
     "start_time": "2020-01-07T12:41:49.578479Z"
    }
   },
   "outputs": [
    {
     "name": "stdout",
     "output_type": "stream",
     "text": [
      "131 ns ± 1.16 ns per loop (mean ± std. dev. of 7 runs, 10000000 loops each)\n"
     ]
    }
   ],
   "source": [
    "%timeit dict()"
   ]
  },
  {
   "cell_type": "code",
   "execution_count": 80,
   "metadata": {
    "ExecuteTime": {
     "end_time": "2020-01-07T12:42:01.265723Z",
     "start_time": "2020-01-07T12:41:57.920989Z"
    }
   },
   "outputs": [
    {
     "name": "stdout",
     "output_type": "stream",
     "text": [
      "41.3 ns ± 0.713 ns per loop (mean ± std. dev. of 7 runs, 10000000 loops each)\n"
     ]
    }
   ],
   "source": [
    "%timeit {}"
   ]
  },
  {
   "cell_type": "markdown",
   "metadata": {},
   "source": [
    "#### Sloty w klasach\n",
    "\n",
    "Klasy w zasadzie oferują nam możliwość dynamicznego tworzenia atrybutów. Ma to z pewnością swoje zalety, ale może prowadzić do problemów z pamięcią. Słownik to dynamiczna struktura. Czy da się tak zdefiniować klasę, by możliwe było korzystanie z tylko określonych atrybutów? Tak. Służy do tego specjalny atrybut `__slots__`. "
   ]
  },
  {
   "cell_type": "code",
   "execution_count": 81,
   "metadata": {
    "ExecuteTime": {
     "end_time": "2020-01-07T12:47:25.478473Z",
     "start_time": "2020-01-07T12:47:25.470137Z"
    }
   },
   "outputs": [],
   "source": [
    "class MyClass1(object):\n",
    "    def __init__(self, name, identifier):\n",
    "        self.name = name\n",
    "        self.identifier = identifier\n",
    "\n",
    "    def hello(self):\n",
    "        print(\"Hello\")"
   ]
  },
  {
   "cell_type": "code",
   "execution_count": 82,
   "metadata": {
    "ExecuteTime": {
     "end_time": "2020-01-07T12:47:26.030857Z",
     "start_time": "2020-01-07T12:47:26.026672Z"
    }
   },
   "outputs": [],
   "source": [
    "class MyClass2(object):\n",
    "    __slots__ = ['name', 'identifier']\n",
    "\n",
    "    def __init__(self, name, identifier):\n",
    "        self.name = name\n",
    "        self.identifier = identifier\n",
    "\n",
    "    def hello(self):\n",
    "        print(\"Hello\")"
   ]
  },
  {
   "cell_type": "code",
   "execution_count": 83,
   "metadata": {
    "ExecuteTime": {
     "end_time": "2020-01-07T12:47:29.524004Z",
     "start_time": "2020-01-07T12:47:27.170885Z"
    }
   },
   "outputs": [
    {
     "name": "stdout",
     "output_type": "stream",
     "text": [
      "411 ns ± 22.3 ns per loop (mean ± std. dev. of 7 runs, 1000000 loops each)\n"
     ]
    }
   ],
   "source": [
    "%timeit MyClass1(\"a\", 1)"
   ]
  },
  {
   "cell_type": "code",
   "execution_count": 84,
   "metadata": {
    "ExecuteTime": {
     "end_time": "2020-01-07T12:47:31.995795Z",
     "start_time": "2020-01-07T12:47:30.124211Z"
    }
   },
   "outputs": [
    {
     "name": "stdout",
     "output_type": "stream",
     "text": [
      "336 ns ± 16.7 ns per loop (mean ± std. dev. of 7 runs, 1000000 loops each)\n"
     ]
    }
   ],
   "source": [
    "%timeit MyClass2(\"a\", 1)"
   ]
  },
  {
   "cell_type": "code",
   "execution_count": 85,
   "metadata": {
    "ExecuteTime": {
     "end_time": "2020-01-07T12:47:35.241964Z",
     "start_time": "2020-01-07T12:47:32.770917Z"
    }
   },
   "outputs": [
    {
     "name": "stdout",
     "output_type": "stream",
     "text": [
      "405 ns ± 17 ns per loop (mean ± std. dev. of 7 runs, 1000000 loops each)\n"
     ]
    }
   ],
   "source": [
    "%timeit MyClass1('a', 1).name"
   ]
  },
  {
   "cell_type": "code",
   "execution_count": 86,
   "metadata": {
    "ExecuteTime": {
     "end_time": "2020-01-07T12:47:37.881025Z",
     "start_time": "2020-01-07T12:47:35.822696Z"
    }
   },
   "outputs": [
    {
     "name": "stdout",
     "output_type": "stream",
     "text": [
      "343 ns ± 14.8 ns per loop (mean ± std. dev. of 7 runs, 1000000 loops each)\n"
     ]
    }
   ],
   "source": [
    "%timeit MyClass2('a', 1).name"
   ]
  },
  {
   "cell_type": "markdown",
   "metadata": {},
   "source": [
    "##### Zbadajmy zużycie pamięci"
   ]
  },
  {
   "cell_type": "code",
   "execution_count": null,
   "metadata": {
    "ExecuteTime": {
     "end_time": "2020-01-07T12:53:22.352009Z",
     "start_time": "2020-01-07T12:53:22.343858Z"
    }
   },
   "outputs": [],
   "source": [
    "# !pip install ipython_memory_usage"
   ]
  },
  {
   "cell_type": "code",
   "execution_count": null,
   "metadata": {
    "ExecuteTime": {
     "end_time": "2020-01-07T12:54:00.190134Z",
     "start_time": "2020-01-07T12:54:00.051816Z"
    }
   },
   "outputs": [],
   "source": [
    "import ipython_memory_usage.ipython_memory_usage as imu"
   ]
  },
  {
   "cell_type": "code",
   "execution_count": null,
   "metadata": {
    "ExecuteTime": {
     "end_time": "2020-01-07T12:54:01.298369Z",
     "start_time": "2020-01-07T12:54:01.193194Z"
    }
   },
   "outputs": [],
   "source": [
    "imu.start_watching_memory()"
   ]
  },
  {
   "cell_type": "code",
   "execution_count": null,
   "metadata": {
    "ExecuteTime": {
     "end_time": "2020-01-07T13:00:31.417301Z",
     "start_time": "2020-01-07T13:00:31.308707Z"
    }
   },
   "outputs": [],
   "source": [
    "%%writefile slots.py\n",
    "class MyClass(object):\n",
    "        __slots__ = ['name', 'identifier']\n",
    "        def __init__(self, name, identifier):\n",
    "                self.name = name\n",
    "                self.identifier = identifier\n",
    "\n",
    "num = 1024*256\n",
    "x = [MyClass(1,1) for i in range(num)]"
   ]
  },
  {
   "cell_type": "code",
   "execution_count": null,
   "metadata": {
    "ExecuteTime": {
     "end_time": "2020-01-07T13:00:36.831709Z",
     "start_time": "2020-01-07T13:00:36.724055Z"
    }
   },
   "outputs": [],
   "source": [
    "%%writefile noslots.py\n",
    "class MyClass(object):\n",
    "        def __init__(self, name, identifier):\n",
    "                self.name = name\n",
    "                self.identifier = identifier\n",
    "\n",
    "num = 1024*256\n",
    "x = [MyClass(1,1) for i in range(num)]"
   ]
  },
  {
   "cell_type": "code",
   "execution_count": null,
   "metadata": {
    "ExecuteTime": {
     "end_time": "2020-01-07T13:00:40.459737Z",
     "start_time": "2020-01-07T13:00:40.017982Z"
    }
   },
   "outputs": [],
   "source": [
    "import slots"
   ]
  },
  {
   "cell_type": "code",
   "execution_count": null,
   "metadata": {
    "ExecuteTime": {
     "end_time": "2020-01-07T13:00:47.290800Z",
     "start_time": "2020-01-07T13:00:46.609400Z"
    }
   },
   "outputs": [],
   "source": [
    "import noslots"
   ]
  },
  {
   "cell_type": "code",
   "execution_count": null,
   "metadata": {
    "ExecuteTime": {
     "end_time": "2020-01-07T13:28:46.995377Z",
     "start_time": "2020-01-07T13:28:46.990059Z"
    }
   },
   "outputs": [],
   "source": [
    "imu.stop_watching_memory()"
   ]
  },
  {
   "cell_type": "code",
   "execution_count": null,
   "metadata": {},
   "outputs": [],
   "source": []
  },
  {
   "cell_type": "markdown",
   "metadata": {},
   "source": [
    "#### Przykład. Łączenie napisów"
   ]
  },
  {
   "cell_type": "code",
   "execution_count": 87,
   "metadata": {
    "ExecuteTime": {
     "end_time": "2020-01-07T11:05:36.089256Z",
     "start_time": "2020-01-07T11:05:35.925002Z"
    }
   },
   "outputs": [],
   "source": [
    "text = [str(x) for x in range(600000)]"
   ]
  },
  {
   "cell_type": "code",
   "execution_count": 88,
   "metadata": {
    "ExecuteTime": {
     "end_time": "2020-01-07T11:05:36.097970Z",
     "start_time": "2020-01-07T11:05:36.092211Z"
    }
   },
   "outputs": [],
   "source": [
    "def for_concat(lista):\n",
    "    x = \"\"\n",
    "    for i in lista:\n",
    "        x += i\n",
    "    return x"
   ]
  },
  {
   "cell_type": "code",
   "execution_count": 89,
   "metadata": {
    "ExecuteTime": {
     "end_time": "2020-01-07T11:05:40.399993Z",
     "start_time": "2020-01-07T11:05:36.101913Z"
    }
   },
   "outputs": [
    {
     "name": "stdout",
     "output_type": "stream",
     "text": [
      "621 ms ± 23.1 ms per loop (mean ± std. dev. of 7 runs, 10 loops each)\n"
     ]
    }
   ],
   "source": [
    "%timeit -n10 x = for_concat(text)\n"
   ]
  },
  {
   "cell_type": "code",
   "execution_count": 90,
   "metadata": {
    "ExecuteTime": {
     "end_time": "2020-01-07T11:05:41.067072Z",
     "start_time": "2020-01-07T11:05:40.402560Z"
    }
   },
   "outputs": [
    {
     "name": "stdout",
     "output_type": "stream",
     "text": [
      "12.5 ms ± 753 µs per loop (mean ± std. dev. of 7 runs, 10 loops each)\n"
     ]
    }
   ],
   "source": [
    "timeit -n10 x = \"\".join(text)"
   ]
  },
  {
   "cell_type": "code",
   "execution_count": 91,
   "metadata": {
    "ExecuteTime": {
     "end_time": "2020-01-07T11:05:41.074681Z",
     "start_time": "2020-01-07T11:05:41.070244Z"
    }
   },
   "outputs": [],
   "source": [
    "my_var = \"my\"\n",
    "my_var1 = \"1\"\n",
    "my_var2 = \"3 4\"\n"
   ]
  },
  {
   "cell_type": "code",
   "execution_count": null,
   "metadata": {},
   "outputs": [],
   "source": []
  },
  {
   "cell_type": "code",
   "execution_count": 92,
   "metadata": {
    "ExecuteTime": {
     "end_time": "2020-01-07T11:05:42.644172Z",
     "start_time": "2020-01-07T11:05:41.078075Z"
    }
   },
   "outputs": [
    {
     "name": "stdout",
     "output_type": "stream",
     "text": [
      "355 ns ± 21.5 ns per loop (mean ± std. dev. of 7 runs, 1000000 loops each)\n"
     ]
    }
   ],
   "source": [
    "%timeit -n1000000 msg = 'hello ' + my_var + ' world' + my_var1 + my_var2"
   ]
  },
  {
   "cell_type": "code",
   "execution_count": 93,
   "metadata": {
    "ExecuteTime": {
     "end_time": "2020-01-07T11:05:44.629772Z",
     "start_time": "2020-01-07T11:05:42.646650Z"
    }
   },
   "outputs": [
    {
     "name": "stdout",
     "output_type": "stream",
     "text": [
      "536 ns ± 21.2 ns per loop (mean ± std. dev. of 7 runs, 1000000 loops each)\n"
     ]
    }
   ],
   "source": [
    "%timeit -n1000000 msg = 'hello %s world %s %s' % (my_var, my_var1, my_var2)"
   ]
  },
  {
   "cell_type": "code",
   "execution_count": 94,
   "metadata": {
    "ExecuteTime": {
     "end_time": "2020-01-07T11:05:46.930194Z",
     "start_time": "2020-01-07T11:05:44.633341Z"
    }
   },
   "outputs": [
    {
     "name": "stdout",
     "output_type": "stream",
     "text": [
      "543 ns ± 7.72 ns per loop (mean ± std. dev. of 7 runs, 1000000 loops each)\n"
     ]
    }
   ],
   "source": [
    "\n",
    "%timeit -n1000000 msg = 'hello {} world {} {}'.format(my_var, my_var1, my_var2) "
   ]
  },
  {
   "cell_type": "code",
   "execution_count": 95,
   "metadata": {
    "ExecuteTime": {
     "end_time": "2020-01-07T11:05:48.015433Z",
     "start_time": "2020-01-07T11:05:46.935517Z"
    },
    "scrolled": true
   },
   "outputs": [
    {
     "name": "stdout",
     "output_type": "stream",
     "text": [
      "241 ns ± 7.02 ns per loop (mean ± std. dev. of 7 runs, 1000000 loops each)\n"
     ]
    }
   ],
   "source": [
    "%timeit -n1000000 msg = f'hello {my_var} world {my_var1} {my_var2}'"
   ]
  },
  {
   "cell_type": "markdown",
   "metadata": {},
   "source": [
    "#### Zliczanie linii w pliku - różne optymalizacje"
   ]
  },
  {
   "cell_type": "code",
   "execution_count": 96,
   "metadata": {
    "ExecuteTime": {
     "end_time": "2020-01-07T23:55:01.530163Z",
     "start_time": "2020-01-07T23:54:53.649869Z"
    }
   },
   "outputs": [
    {
     "ename": "ModuleNotFoundError",
     "evalue": "No module named 'numpy'",
     "output_type": "error",
     "traceback": [
      "\u001b[1;31m---------------------------------------------------------------------------\u001b[0m",
      "\u001b[1;31mModuleNotFoundError\u001b[0m                       Traceback (most recent call last)",
      "\u001b[1;32m<ipython-input-96-d9263d090b38>\u001b[0m in \u001b[0;36m<module>\u001b[1;34m\u001b[0m\n\u001b[0;32m      1\u001b[0m \u001b[1;32mimport\u001b[0m \u001b[0mmmap\u001b[0m\u001b[1;33m\u001b[0m\u001b[1;33m\u001b[0m\u001b[0m\n\u001b[1;32m----> 2\u001b[1;33m \u001b[1;32mimport\u001b[0m \u001b[0mnumpy\u001b[0m \u001b[1;32mas\u001b[0m \u001b[0mnp\u001b[0m\u001b[1;33m\u001b[0m\u001b[1;33m\u001b[0m\u001b[0m\n\u001b[0m\u001b[0;32m      3\u001b[0m \u001b[1;32mimport\u001b[0m \u001b[0mpandas\u001b[0m \u001b[1;32mas\u001b[0m \u001b[0mpd\u001b[0m\u001b[1;33m\u001b[0m\u001b[1;33m\u001b[0m\u001b[0m\n\u001b[0;32m      4\u001b[0m \u001b[1;32mimport\u001b[0m \u001b[0mtime\u001b[0m\u001b[1;33m\u001b[0m\u001b[1;33m\u001b[0m\u001b[0m\n\u001b[0;32m      5\u001b[0m \u001b[1;32mimport\u001b[0m \u001b[0mmmap\u001b[0m\u001b[1;33m\u001b[0m\u001b[1;33m\u001b[0m\u001b[0m\n",
      "\u001b[1;31mModuleNotFoundError\u001b[0m: No module named 'numpy'"
     ]
    }
   ],
   "source": [
    "import mmap\n",
    "import numpy as np\n",
    "import pandas as pd\n",
    "import time\n",
    "import mmap\n",
    "import random\n",
    "from collections import defaultdict\n",
    "\n",
    "\n",
    "filename = \"data/PESEL_NAZWISKA.csv\"  # 298127 linii\n",
    "\n",
    "\n",
    "def simplecount(filename):\n",
    "    lines = 0\n",
    "    with open(filename) as f:\n",
    "        for line in f:\n",
    "            lines += 1\n",
    "    return lines\n",
    "\n",
    "\n",
    "def simplecount2(filename):\n",
    "    with open(filename) as f:\n",
    "        lines = sum(1 for line in f)\n",
    "    return lines\n",
    "\n",
    "\n",
    "def enumerate_count(fname):\n",
    "    with open(fname) as f:\n",
    "        for i, l in enumerate(f):\n",
    "            pass\n",
    "    return i + 1\n",
    "\n",
    "\n",
    "def mapcount(filename):\n",
    "    lines = 0\n",
    "    with open(filename) as f:\n",
    "        buf = mmap.mmap(f.fileno(), 0, prot=mmap.PROT_READ)\n",
    "        readline = buf.readline\n",
    "        while readline():\n",
    "            lines += 1\n",
    "    return lines\n",
    "\n",
    "\n",
    "def bufcount(filename):\n",
    "    lines = 0\n",
    "    buf_size = 1024 * 1024\n",
    "\n",
    "    with open(filename) as f:\n",
    "        lines = 0\n",
    "        read_f = f.read  # loop optimization\n",
    "        buf = read_f(buf_size)\n",
    "        while buf:\n",
    "            lines += buf.count('\\n')\n",
    "            buf = read_f(buf_size)\n",
    "    return lines\n",
    "\n",
    "\n",
    "def numpy_count(filename):\n",
    "    my_data = np.genfromtxt(filename, delimiter=',')\n",
    "    return my_data.shape[0]\n",
    "\n",
    "\n",
    "def pd_read(filename):\n",
    "    df = pd.read_csv(filename)\n",
    "    return df.shape[0] + 1\n",
    "\n",
    "\n",
    "methods = [\n",
    "    simplecount,\n",
    "    simplecount2,\n",
    "    enumerate_count,\n",
    "    mapcount,\n",
    "    bufcount,\n",
    "    numpy_count,\n",
    "    pd_read,\n",
    "\n",
    "\n",
    "]\n",
    "\n",
    "counts = defaultdict(list)\n",
    "\n",
    "for i in range(5):\n",
    "    for func in methods:\n",
    "        start_time = time.time()\n",
    "        assert func(\"data/PESEL_NAZWISKA.csv\") == 298127\n",
    "        counts[func].append(time.time() - start_time)\n",
    "\n",
    "for key, vals in counts.items():\n",
    "    print(key.__name__, \":\", sum(vals) / float(len(vals)))"
   ]
  },
  {
   "cell_type": "markdown",
   "metadata": {},
   "source": [
    "#### Optymalizacje, które trzeba stosować ze szczególną uwagą:\n",
    "\n",
    "##### przypisywanie wartości do zmiennych"
   ]
  },
  {
   "cell_type": "code",
   "execution_count": null,
   "metadata": {},
   "outputs": [],
   "source": []
  },
  {
   "cell_type": "code",
   "execution_count": null,
   "metadata": {
    "ExecuteTime": {
     "end_time": "2020-01-07T13:29:52.359143Z",
     "start_time": "2020-01-07T13:29:47.954141Z"
    }
   },
   "outputs": [],
   "source": [
    "%%timeit\n",
    "q=1\n",
    "w=1\n",
    "e=1\n",
    "r=1\n",
    "t=1\n",
    "y=1\n",
    "u=1\n",
    "i=1\n",
    "o=1\n",
    "p=1"
   ]
  },
  {
   "cell_type": "code",
   "execution_count": null,
   "metadata": {
    "ExecuteTime": {
     "end_time": "2020-01-07T13:29:57.488458Z",
     "start_time": "2020-01-07T13:29:53.104625Z"
    }
   },
   "outputs": [],
   "source": [
    "%%timeit\n",
    "q,w,e,r,t,y,u,i,o,p = 1,1,1,1,1,1,1,1,1,1"
   ]
  },
  {
   "cell_type": "markdown",
   "metadata": {},
   "source": [
    "W Pythonie 3.8 już nie widać tutaj różnicy. We wcześniejszych wersjach mogła być dostrzegalna.\n",
    "\n",
    "##### Przestrzenie nazw\n",
    "\n",
    "Poruszanie się po przestrzeniach nazw też może mieć wpływ na wydajność:"
   ]
  },
  {
   "cell_type": "code",
   "execution_count": null,
   "metadata": {
    "ExecuteTime": {
     "end_time": "2020-01-07T13:34:23.818089Z",
     "start_time": "2020-01-07T13:34:23.813970Z"
    }
   },
   "outputs": [],
   "source": [
    "def kwadraty_v1(lista):\n",
    "    output = []\n",
    "    for element in lista:\n",
    "        output.append(element**2)\n",
    "    return output"
   ]
  },
  {
   "cell_type": "code",
   "execution_count": null,
   "metadata": {
    "ExecuteTime": {
     "end_time": "2020-01-07T13:35:12.778418Z",
     "start_time": "2020-01-07T13:35:12.771191Z"
    }
   },
   "outputs": [],
   "source": [
    "def kwadraty_v2(lista):\n",
    "    output = []\n",
    "    append = output.append  # Tu dzieje się magia\n",
    "    for element in lista:\n",
    "        append(element**2)\n",
    "    return output"
   ]
  },
  {
   "cell_type": "code",
   "execution_count": null,
   "metadata": {
    "ExecuteTime": {
     "end_time": "2020-01-07T13:36:51.198899Z",
     "start_time": "2020-01-07T13:36:28.772664Z"
    }
   },
   "outputs": [],
   "source": [
    "%timeit -n10 kwadraty_v1(MILLION_ELEMENTS)"
   ]
  },
  {
   "cell_type": "code",
   "execution_count": null,
   "metadata": {
    "ExecuteTime": {
     "end_time": "2020-01-07T13:37:12.257724Z",
     "start_time": "2020-01-07T13:36:51.201375Z"
    }
   },
   "outputs": [],
   "source": [
    "%timeit -n10 kwadraty_v2(MILLION_ELEMENTS)"
   ]
  },
  {
   "cell_type": "markdown",
   "metadata": {},
   "source": [
    "Jak widać jest trochę szybciej.. ale też jest mniej czytelnie."
   ]
  },
  {
   "cell_type": "markdown",
   "metadata": {
    "ExecuteTime": {
     "end_time": "2020-01-07T13:45:23.710297Z",
     "start_time": "2020-01-07T13:45:23.707393Z"
    }
   },
   "source": [
    "### Profilowanie\n",
    "\n",
    "Zadanie\n",
    "\n",
    "1. Wczytaj listę filmów z pliku data/movies.txt (na początku - do testów weź pierwszych 5000 filmów, gdy kod będzie działąć szybko dodaj kolejne)\n",
    "2. Zwróć listę tytułów występujących więcej niż raz\n",
    "3. Wyszukiwanie powinno być nieczułe na wielkość liter\n"
   ]
  },
  {
   "cell_type": "markdown",
   "metadata": {},
   "source": [
    "Do tego zadania potrzebna nam będzie umiejetność korzystania z profilera. To taki specjalny program, który pozwala nam oszacować różne parametry związane z wykonywaniem naszych programów - np. czas w jakim się wykonuje całość i poszczególne funkcje w ramach programu\n",
    "\n",
    "Wykorzystamy do tego dekorator"
   ]
  },
  {
   "cell_type": "code",
   "execution_count": null,
   "metadata": {
    "ExecuteTime": {
     "end_time": "2020-01-07T19:42:56.486351Z",
     "start_time": "2020-01-07T19:42:56.479987Z"
    }
   },
   "outputs": [],
   "source": [
    "import cProfile, pstats, io\n",
    "\n",
    "def profile(func):\n",
    "    \"\"\"A decorator that uses cProfile to profile a function\"\"\"\n",
    "    \n",
    "    def wrapper(*args, **kwargs):\n",
    "        pr = cProfile.Profile()\n",
    "        pr.enable()\n",
    "        retval = func(*args, **kwargs)\n",
    "        pr.disable()\n",
    "        s = io.StringIO()\n",
    "        sortby = \"cumulative\"\n",
    "        ps = pstats.Stats(pr, stream=s).sort_stats(sortby)\n",
    "        ps.print_stats()\n",
    "        print(s.getvalue())\n",
    "        return retval\n",
    "    return wrapper"
   ]
  },
  {
   "cell_type": "code",
   "execution_count": null,
   "metadata": {
    "ExecuteTime": {
     "end_time": "2020-01-07T19:48:12.718411Z",
     "start_time": "2020-01-07T19:48:07.089188Z"
    }
   },
   "outputs": [],
   "source": [
    "import time\n",
    "\n",
    "@profile\n",
    "def list_to_str(lista):\n",
    "    output = []\n",
    "    for el in lista:\n",
    "        output.append(str(el))\n",
    "        time.sleep(0.001)\n",
    "    return \"\\n\".join(output)\n",
    "\n",
    "list_to_str(range(1, 5000))"
   ]
  },
  {
   "cell_type": "markdown",
   "metadata": {},
   "source": [
    "Widzimy ile razy dany fragment był wywołany (`ncalls`) i w odpowiednich kolumnach widzimy ile to zajęło czasu. \n",
    "\n",
    "Spróbujcie teraz napisać rozwiązanie zadania, sprofiluj je a potem zoptymalizuj\n",
    "\n",
    "\n",
    "- Wczytaj listę filmów z pliku data/movies.txt (na początku - do testów weź pierwszych 5000 filmów, gdy kod będzie działąć szybko dodaj kolejne)\n",
    "- Zwróć listę tytułów występujących więcej niż raz\n",
    "- Wyszukiwanie powinno być nieczułe na wielkość liter\n"
   ]
  },
  {
   "cell_type": "code",
   "execution_count": null,
   "metadata": {},
   "outputs": [],
   "source": []
  },
  {
   "cell_type": "code",
   "execution_count": null,
   "metadata": {},
   "outputs": [],
   "source": []
  },
  {
   "cell_type": "code",
   "execution_count": null,
   "metadata": {},
   "outputs": [],
   "source": []
  },
  {
   "cell_type": "code",
   "execution_count": null,
   "metadata": {},
   "outputs": [],
   "source": []
  },
  {
   "cell_type": "code",
   "execution_count": null,
   "metadata": {},
   "outputs": [],
   "source": []
  },
  {
   "cell_type": "code",
   "execution_count": null,
   "metadata": {},
   "outputs": [],
   "source": []
  },
  {
   "cell_type": "code",
   "execution_count": null,
   "metadata": {},
   "outputs": [],
   "source": []
  },
  {
   "cell_type": "code",
   "execution_count": 97,
   "metadata": {
    "ExecuteTime": {
     "end_time": "2020-01-07T14:34:34.260638Z",
     "start_time": "2020-01-07T14:34:34.254314Z"
    }
   },
   "outputs": [],
   "source": [
    "\n",
    "\n",
    "# ver 0\n",
    "def read_movies(src, N=5000):\n",
    "    with open(src) as fh:\n",
    "        return fh.read().splitlines()[:N]\n",
    "\n",
    "def is_duplicate(needle, haystack):\n",
    "\n",
    "    for movie in haystack:\n",
    "        if needle.lower() == movie.lower():\n",
    "            return True\n",
    "    return False\n",
    "\n",
    "\n",
    "def find_duplicate_movies(src=\"data/movies.csv\"):\n",
    "    movies = read_movies(src)\n",
    "    duplicates = []\n",
    "    while movies:\n",
    "        movie = movies.pop()\n",
    "        if is_duplicate(movie, movies):\n",
    "            duplicates.append(movie)\n",
    "    return duplicates\n"
   ]
  },
  {
   "cell_type": "markdown",
   "metadata": {},
   "source": [
    "Zmierzmy czas wykonania takiego wyszukiwania:\n"
   ]
  },
  {
   "cell_type": "code",
   "execution_count": 98,
   "metadata": {
    "ExecuteTime": {
     "end_time": "2020-01-07T14:35:45.653598Z",
     "start_time": "2020-01-07T14:35:30.163344Z"
    }
   },
   "outputs": [
    {
     "ename": "UnicodeDecodeError",
     "evalue": "'charmap' codec can't decode byte 0x83 in position 4162889: character maps to <undefined>",
     "output_type": "error",
     "traceback": [
      "\u001b[1;31m---------------------------------------------------------------------------\u001b[0m",
      "\u001b[1;31mUnicodeDecodeError\u001b[0m                        Traceback (most recent call last)",
      "\u001b[1;32m<ipython-input-98-154567e2e9ea>\u001b[0m in \u001b[0;36m<module>\u001b[1;34m\u001b[0m\n\u001b[1;32m----> 1\u001b[1;33m \u001b[0mget_ipython\u001b[0m\u001b[1;33m(\u001b[0m\u001b[1;33m)\u001b[0m\u001b[1;33m.\u001b[0m\u001b[0mrun_line_magic\u001b[0m\u001b[1;33m(\u001b[0m\u001b[1;34m'timeit'\u001b[0m\u001b[1;33m,\u001b[0m \u001b[1;34m'-n1 find_duplicate_movies()'\u001b[0m\u001b[1;33m)\u001b[0m\u001b[1;33m\u001b[0m\u001b[1;33m\u001b[0m\u001b[0m\n\u001b[0m",
      "\u001b[1;32mc:\\users\\kurs\\appdata\\local\\programs\\python\\python37\\lib\\site-packages\\IPython\\core\\interactiveshell.py\u001b[0m in \u001b[0;36mrun_line_magic\u001b[1;34m(self, magic_name, line, _stack_depth)\u001b[0m\n\u001b[0;32m   2312\u001b[0m                 \u001b[0mkwargs\u001b[0m\u001b[1;33m[\u001b[0m\u001b[1;34m'local_ns'\u001b[0m\u001b[1;33m]\u001b[0m \u001b[1;33m=\u001b[0m \u001b[0msys\u001b[0m\u001b[1;33m.\u001b[0m\u001b[0m_getframe\u001b[0m\u001b[1;33m(\u001b[0m\u001b[0mstack_depth\u001b[0m\u001b[1;33m)\u001b[0m\u001b[1;33m.\u001b[0m\u001b[0mf_locals\u001b[0m\u001b[1;33m\u001b[0m\u001b[1;33m\u001b[0m\u001b[0m\n\u001b[0;32m   2313\u001b[0m             \u001b[1;32mwith\u001b[0m \u001b[0mself\u001b[0m\u001b[1;33m.\u001b[0m\u001b[0mbuiltin_trap\u001b[0m\u001b[1;33m:\u001b[0m\u001b[1;33m\u001b[0m\u001b[1;33m\u001b[0m\u001b[0m\n\u001b[1;32m-> 2314\u001b[1;33m                 \u001b[0mresult\u001b[0m \u001b[1;33m=\u001b[0m \u001b[0mfn\u001b[0m\u001b[1;33m(\u001b[0m\u001b[1;33m*\u001b[0m\u001b[0margs\u001b[0m\u001b[1;33m,\u001b[0m \u001b[1;33m**\u001b[0m\u001b[0mkwargs\u001b[0m\u001b[1;33m)\u001b[0m\u001b[1;33m\u001b[0m\u001b[1;33m\u001b[0m\u001b[0m\n\u001b[0m\u001b[0;32m   2315\u001b[0m             \u001b[1;32mreturn\u001b[0m \u001b[0mresult\u001b[0m\u001b[1;33m\u001b[0m\u001b[1;33m\u001b[0m\u001b[0m\n\u001b[0;32m   2316\u001b[0m \u001b[1;33m\u001b[0m\u001b[0m\n",
      "\u001b[1;32m<c:\\users\\kurs\\appdata\\local\\programs\\python\\python37\\lib\\site-packages\\decorator.py:decorator-gen-61>\u001b[0m in \u001b[0;36mtimeit\u001b[1;34m(self, line, cell, local_ns)\u001b[0m\n",
      "\u001b[1;32mc:\\users\\kurs\\appdata\\local\\programs\\python\\python37\\lib\\site-packages\\IPython\\core\\magic.py\u001b[0m in \u001b[0;36m<lambda>\u001b[1;34m(f, *a, **k)\u001b[0m\n\u001b[0;32m    185\u001b[0m     \u001b[1;31m# but it's overkill for just that one bit of state.\u001b[0m\u001b[1;33m\u001b[0m\u001b[1;33m\u001b[0m\u001b[1;33m\u001b[0m\u001b[0m\n\u001b[0;32m    186\u001b[0m     \u001b[1;32mdef\u001b[0m \u001b[0mmagic_deco\u001b[0m\u001b[1;33m(\u001b[0m\u001b[0marg\u001b[0m\u001b[1;33m)\u001b[0m\u001b[1;33m:\u001b[0m\u001b[1;33m\u001b[0m\u001b[1;33m\u001b[0m\u001b[0m\n\u001b[1;32m--> 187\u001b[1;33m         \u001b[0mcall\u001b[0m \u001b[1;33m=\u001b[0m \u001b[1;32mlambda\u001b[0m \u001b[0mf\u001b[0m\u001b[1;33m,\u001b[0m \u001b[1;33m*\u001b[0m\u001b[0ma\u001b[0m\u001b[1;33m,\u001b[0m \u001b[1;33m**\u001b[0m\u001b[0mk\u001b[0m\u001b[1;33m:\u001b[0m \u001b[0mf\u001b[0m\u001b[1;33m(\u001b[0m\u001b[1;33m*\u001b[0m\u001b[0ma\u001b[0m\u001b[1;33m,\u001b[0m \u001b[1;33m**\u001b[0m\u001b[0mk\u001b[0m\u001b[1;33m)\u001b[0m\u001b[1;33m\u001b[0m\u001b[1;33m\u001b[0m\u001b[0m\n\u001b[0m\u001b[0;32m    188\u001b[0m \u001b[1;33m\u001b[0m\u001b[0m\n\u001b[0;32m    189\u001b[0m         \u001b[1;32mif\u001b[0m \u001b[0mcallable\u001b[0m\u001b[1;33m(\u001b[0m\u001b[0marg\u001b[0m\u001b[1;33m)\u001b[0m\u001b[1;33m:\u001b[0m\u001b[1;33m\u001b[0m\u001b[1;33m\u001b[0m\u001b[0m\n",
      "\u001b[1;32mc:\\users\\kurs\\appdata\\local\\programs\\python\\python37\\lib\\site-packages\\IPython\\core\\magics\\execution.py\u001b[0m in \u001b[0;36mtimeit\u001b[1;34m(self, line, cell, local_ns)\u001b[0m\n\u001b[0;32m   1160\u001b[0m                     \u001b[1;32mbreak\u001b[0m\u001b[1;33m\u001b[0m\u001b[1;33m\u001b[0m\u001b[0m\n\u001b[0;32m   1161\u001b[0m \u001b[1;33m\u001b[0m\u001b[0m\n\u001b[1;32m-> 1162\u001b[1;33m         \u001b[0mall_runs\u001b[0m \u001b[1;33m=\u001b[0m \u001b[0mtimer\u001b[0m\u001b[1;33m.\u001b[0m\u001b[0mrepeat\u001b[0m\u001b[1;33m(\u001b[0m\u001b[0mrepeat\u001b[0m\u001b[1;33m,\u001b[0m \u001b[0mnumber\u001b[0m\u001b[1;33m)\u001b[0m\u001b[1;33m\u001b[0m\u001b[1;33m\u001b[0m\u001b[0m\n\u001b[0m\u001b[0;32m   1163\u001b[0m         \u001b[0mbest\u001b[0m \u001b[1;33m=\u001b[0m \u001b[0mmin\u001b[0m\u001b[1;33m(\u001b[0m\u001b[0mall_runs\u001b[0m\u001b[1;33m)\u001b[0m \u001b[1;33m/\u001b[0m \u001b[0mnumber\u001b[0m\u001b[1;33m\u001b[0m\u001b[1;33m\u001b[0m\u001b[0m\n\u001b[0;32m   1164\u001b[0m         \u001b[0mworst\u001b[0m \u001b[1;33m=\u001b[0m \u001b[0mmax\u001b[0m\u001b[1;33m(\u001b[0m\u001b[0mall_runs\u001b[0m\u001b[1;33m)\u001b[0m \u001b[1;33m/\u001b[0m \u001b[0mnumber\u001b[0m\u001b[1;33m\u001b[0m\u001b[1;33m\u001b[0m\u001b[0m\n",
      "\u001b[1;32mc:\\users\\kurs\\appdata\\local\\programs\\python\\python37\\lib\\timeit.py\u001b[0m in \u001b[0;36mrepeat\u001b[1;34m(self, repeat, number)\u001b[0m\n\u001b[0;32m    202\u001b[0m         \u001b[0mr\u001b[0m \u001b[1;33m=\u001b[0m \u001b[1;33m[\u001b[0m\u001b[1;33m]\u001b[0m\u001b[1;33m\u001b[0m\u001b[1;33m\u001b[0m\u001b[0m\n\u001b[0;32m    203\u001b[0m         \u001b[1;32mfor\u001b[0m \u001b[0mi\u001b[0m \u001b[1;32min\u001b[0m \u001b[0mrange\u001b[0m\u001b[1;33m(\u001b[0m\u001b[0mrepeat\u001b[0m\u001b[1;33m)\u001b[0m\u001b[1;33m:\u001b[0m\u001b[1;33m\u001b[0m\u001b[1;33m\u001b[0m\u001b[0m\n\u001b[1;32m--> 204\u001b[1;33m             \u001b[0mt\u001b[0m \u001b[1;33m=\u001b[0m \u001b[0mself\u001b[0m\u001b[1;33m.\u001b[0m\u001b[0mtimeit\u001b[0m\u001b[1;33m(\u001b[0m\u001b[0mnumber\u001b[0m\u001b[1;33m)\u001b[0m\u001b[1;33m\u001b[0m\u001b[1;33m\u001b[0m\u001b[0m\n\u001b[0m\u001b[0;32m    205\u001b[0m             \u001b[0mr\u001b[0m\u001b[1;33m.\u001b[0m\u001b[0mappend\u001b[0m\u001b[1;33m(\u001b[0m\u001b[0mt\u001b[0m\u001b[1;33m)\u001b[0m\u001b[1;33m\u001b[0m\u001b[1;33m\u001b[0m\u001b[0m\n\u001b[0;32m    206\u001b[0m         \u001b[1;32mreturn\u001b[0m \u001b[0mr\u001b[0m\u001b[1;33m\u001b[0m\u001b[1;33m\u001b[0m\u001b[0m\n",
      "\u001b[1;32mc:\\users\\kurs\\appdata\\local\\programs\\python\\python37\\lib\\site-packages\\IPython\\core\\magics\\execution.py\u001b[0m in \u001b[0;36mtimeit\u001b[1;34m(self, number)\u001b[0m\n\u001b[0;32m    167\u001b[0m         \u001b[0mgc\u001b[0m\u001b[1;33m.\u001b[0m\u001b[0mdisable\u001b[0m\u001b[1;33m(\u001b[0m\u001b[1;33m)\u001b[0m\u001b[1;33m\u001b[0m\u001b[1;33m\u001b[0m\u001b[0m\n\u001b[0;32m    168\u001b[0m         \u001b[1;32mtry\u001b[0m\u001b[1;33m:\u001b[0m\u001b[1;33m\u001b[0m\u001b[1;33m\u001b[0m\u001b[0m\n\u001b[1;32m--> 169\u001b[1;33m             \u001b[0mtiming\u001b[0m \u001b[1;33m=\u001b[0m \u001b[0mself\u001b[0m\u001b[1;33m.\u001b[0m\u001b[0minner\u001b[0m\u001b[1;33m(\u001b[0m\u001b[0mit\u001b[0m\u001b[1;33m,\u001b[0m \u001b[0mself\u001b[0m\u001b[1;33m.\u001b[0m\u001b[0mtimer\u001b[0m\u001b[1;33m)\u001b[0m\u001b[1;33m\u001b[0m\u001b[1;33m\u001b[0m\u001b[0m\n\u001b[0m\u001b[0;32m    170\u001b[0m         \u001b[1;32mfinally\u001b[0m\u001b[1;33m:\u001b[0m\u001b[1;33m\u001b[0m\u001b[1;33m\u001b[0m\u001b[0m\n\u001b[0;32m    171\u001b[0m             \u001b[1;32mif\u001b[0m \u001b[0mgcold\u001b[0m\u001b[1;33m:\u001b[0m\u001b[1;33m\u001b[0m\u001b[1;33m\u001b[0m\u001b[0m\n",
      "\u001b[1;32m<magic-timeit>\u001b[0m in \u001b[0;36minner\u001b[1;34m(_it, _timer)\u001b[0m\n",
      "\u001b[1;32m<ipython-input-97-0d0c8e2d9dfe>\u001b[0m in \u001b[0;36mfind_duplicate_movies\u001b[1;34m(src)\u001b[0m\n\u001b[0;32m     13\u001b[0m \u001b[1;33m\u001b[0m\u001b[0m\n\u001b[0;32m     14\u001b[0m \u001b[1;32mdef\u001b[0m \u001b[0mfind_duplicate_movies\u001b[0m\u001b[1;33m(\u001b[0m\u001b[0msrc\u001b[0m\u001b[1;33m=\u001b[0m\u001b[1;34m\"data/movies.csv\"\u001b[0m\u001b[1;33m)\u001b[0m\u001b[1;33m:\u001b[0m\u001b[1;33m\u001b[0m\u001b[1;33m\u001b[0m\u001b[0m\n\u001b[1;32m---> 15\u001b[1;33m     \u001b[0mmovies\u001b[0m \u001b[1;33m=\u001b[0m \u001b[0mread_movies\u001b[0m\u001b[1;33m(\u001b[0m\u001b[0msrc\u001b[0m\u001b[1;33m)\u001b[0m\u001b[1;33m\u001b[0m\u001b[1;33m\u001b[0m\u001b[0m\n\u001b[0m\u001b[0;32m     16\u001b[0m     \u001b[0mduplicates\u001b[0m \u001b[1;33m=\u001b[0m \u001b[1;33m[\u001b[0m\u001b[1;33m]\u001b[0m\u001b[1;33m\u001b[0m\u001b[1;33m\u001b[0m\u001b[0m\n\u001b[0;32m     17\u001b[0m     \u001b[1;32mwhile\u001b[0m \u001b[0mmovies\u001b[0m\u001b[1;33m:\u001b[0m\u001b[1;33m\u001b[0m\u001b[1;33m\u001b[0m\u001b[0m\n",
      "\u001b[1;32m<ipython-input-97-0d0c8e2d9dfe>\u001b[0m in \u001b[0;36mread_movies\u001b[1;34m(src, N)\u001b[0m\n\u001b[0;32m      2\u001b[0m \u001b[1;32mdef\u001b[0m \u001b[0mread_movies\u001b[0m\u001b[1;33m(\u001b[0m\u001b[0msrc\u001b[0m\u001b[1;33m,\u001b[0m \u001b[0mN\u001b[0m\u001b[1;33m=\u001b[0m\u001b[1;36m5000\u001b[0m\u001b[1;33m)\u001b[0m\u001b[1;33m:\u001b[0m\u001b[1;33m\u001b[0m\u001b[1;33m\u001b[0m\u001b[0m\n\u001b[0;32m      3\u001b[0m     \u001b[1;32mwith\u001b[0m \u001b[0mopen\u001b[0m\u001b[1;33m(\u001b[0m\u001b[0msrc\u001b[0m\u001b[1;33m)\u001b[0m \u001b[1;32mas\u001b[0m \u001b[0mfh\u001b[0m\u001b[1;33m:\u001b[0m\u001b[1;33m\u001b[0m\u001b[1;33m\u001b[0m\u001b[0m\n\u001b[1;32m----> 4\u001b[1;33m         \u001b[1;32mreturn\u001b[0m \u001b[0mfh\u001b[0m\u001b[1;33m.\u001b[0m\u001b[0mread\u001b[0m\u001b[1;33m(\u001b[0m\u001b[1;33m)\u001b[0m\u001b[1;33m.\u001b[0m\u001b[0msplitlines\u001b[0m\u001b[1;33m(\u001b[0m\u001b[1;33m)\u001b[0m\u001b[1;33m[\u001b[0m\u001b[1;33m:\u001b[0m\u001b[0mN\u001b[0m\u001b[1;33m]\u001b[0m\u001b[1;33m\u001b[0m\u001b[1;33m\u001b[0m\u001b[0m\n\u001b[0m\u001b[0;32m      5\u001b[0m \u001b[1;33m\u001b[0m\u001b[0m\n\u001b[0;32m      6\u001b[0m \u001b[1;32mdef\u001b[0m \u001b[0mis_duplicate\u001b[0m\u001b[1;33m(\u001b[0m\u001b[0mneedle\u001b[0m\u001b[1;33m,\u001b[0m \u001b[0mhaystack\u001b[0m\u001b[1;33m)\u001b[0m\u001b[1;33m:\u001b[0m\u001b[1;33m\u001b[0m\u001b[1;33m\u001b[0m\u001b[0m\n",
      "\u001b[1;32mc:\\users\\kurs\\appdata\\local\\programs\\python\\python37\\lib\\encodings\\cp1250.py\u001b[0m in \u001b[0;36mdecode\u001b[1;34m(self, input, final)\u001b[0m\n\u001b[0;32m     21\u001b[0m \u001b[1;32mclass\u001b[0m \u001b[0mIncrementalDecoder\u001b[0m\u001b[1;33m(\u001b[0m\u001b[0mcodecs\u001b[0m\u001b[1;33m.\u001b[0m\u001b[0mIncrementalDecoder\u001b[0m\u001b[1;33m)\u001b[0m\u001b[1;33m:\u001b[0m\u001b[1;33m\u001b[0m\u001b[1;33m\u001b[0m\u001b[0m\n\u001b[0;32m     22\u001b[0m     \u001b[1;32mdef\u001b[0m \u001b[0mdecode\u001b[0m\u001b[1;33m(\u001b[0m\u001b[0mself\u001b[0m\u001b[1;33m,\u001b[0m \u001b[0minput\u001b[0m\u001b[1;33m,\u001b[0m \u001b[0mfinal\u001b[0m\u001b[1;33m=\u001b[0m\u001b[1;32mFalse\u001b[0m\u001b[1;33m)\u001b[0m\u001b[1;33m:\u001b[0m\u001b[1;33m\u001b[0m\u001b[1;33m\u001b[0m\u001b[0m\n\u001b[1;32m---> 23\u001b[1;33m         \u001b[1;32mreturn\u001b[0m \u001b[0mcodecs\u001b[0m\u001b[1;33m.\u001b[0m\u001b[0mcharmap_decode\u001b[0m\u001b[1;33m(\u001b[0m\u001b[0minput\u001b[0m\u001b[1;33m,\u001b[0m\u001b[0mself\u001b[0m\u001b[1;33m.\u001b[0m\u001b[0merrors\u001b[0m\u001b[1;33m,\u001b[0m\u001b[0mdecoding_table\u001b[0m\u001b[1;33m)\u001b[0m\u001b[1;33m[\u001b[0m\u001b[1;36m0\u001b[0m\u001b[1;33m]\u001b[0m\u001b[1;33m\u001b[0m\u001b[1;33m\u001b[0m\u001b[0m\n\u001b[0m\u001b[0;32m     24\u001b[0m \u001b[1;33m\u001b[0m\u001b[0m\n\u001b[0;32m     25\u001b[0m \u001b[1;32mclass\u001b[0m \u001b[0mStreamWriter\u001b[0m\u001b[1;33m(\u001b[0m\u001b[0mCodec\u001b[0m\u001b[1;33m,\u001b[0m\u001b[0mcodecs\u001b[0m\u001b[1;33m.\u001b[0m\u001b[0mStreamWriter\u001b[0m\u001b[1;33m)\u001b[0m\u001b[1;33m:\u001b[0m\u001b[1;33m\u001b[0m\u001b[1;33m\u001b[0m\u001b[0m\n",
      "\u001b[1;31mUnicodeDecodeError\u001b[0m: 'charmap' codec can't decode byte 0x83 in position 4162889: character maps to <undefined>"
     ]
    }
   ],
   "source": [
    "%timeit -n1 find_duplicate_movies()"
   ]
  },
  {
   "cell_type": "markdown",
   "metadata": {},
   "source": [
    "Postarajmy się sprofilować nasz kod i zobaczyć co tam się dzieje.\n",
    "W tym celu stworzymy dekorator `@profile`, który umożliwi profilowanie funkcji i wypisze raport. Napiszemy to w oparciu o: https://docs.python.org/3/library/profile.html#profile.Profile"
   ]
  },
  {
   "cell_type": "code",
   "execution_count": null,
   "metadata": {
    "ExecuteTime": {
     "end_time": "2020-01-07T14:43:26.091178Z",
     "start_time": "2020-01-07T14:43:26.083167Z"
    }
   },
   "outputs": [],
   "source": [
    "import cProfile, pstats, io\n",
    "\n",
    "def profile(func):\n",
    "    \"\"\"A decorator that uses cProfile to profile a function\"\"\"\n",
    "    \n",
    "    def wrapper(*args, **kwargs):\n",
    "        pr = cProfile.Profile()\n",
    "        pr.enable()\n",
    "        retval = func(*args, **kwargs)\n",
    "        pr.disable()\n",
    "        s = io.StringIO()\n",
    "        sortby = \"cumulative\"\n",
    "        ps = pstats.Stats(pr, stream=s).sort_stats(sortby)\n",
    "        ps.print_stats()\n",
    "        print(s.getvalue())\n",
    "        return retval\n",
    "    return wrapper"
   ]
  },
  {
   "cell_type": "markdown",
   "metadata": {},
   "source": [
    "Udekorujemy teraz funkcję, którą chcemy profilować. Można to zrobić w oryginalnej celce, ale zachowam tutaj kolejność i przepisze kod jeszcze raz"
   ]
  },
  {
   "cell_type": "code",
   "execution_count": null,
   "metadata": {
    "ExecuteTime": {
     "end_time": "2020-01-07T15:10:26.700157Z",
     "start_time": "2020-01-07T15:10:21.197983Z"
    }
   },
   "outputs": [],
   "source": [
    "# ver 1 - dodany dekorator profilera\n",
    "\n",
    "def read_movies(src, N=5000):\n",
    "    with open(src) as fh:\n",
    "        return fh.read().splitlines()[:N]\n",
    "\n",
    "def is_duplicate(needle, haystack):\n",
    "\n",
    "    for movie in haystack:\n",
    "        if needle.lower() == movie.lower():\n",
    "            return True\n",
    "    return False\n",
    "\n",
    "@profile\n",
    "def find_duplicate_movies(src=\"data/movies.csv\"):\n",
    "    movies = read_movies(src)\n",
    "    duplicates = []\n",
    "    while movies:\n",
    "        movie = movies.pop()\n",
    "        if is_duplicate(movie, movies):\n",
    "            duplicates.append(movie)\n",
    "    return duplicates\n",
    "\n",
    "find_duplicate_movies()"
   ]
  },
  {
   "cell_type": "markdown",
   "metadata": {},
   "source": [
    "Widzimy winowajcę:\n",
    "\n",
    "            1    0.005    0.005    5.454    5.454 <ipython-input-209-7044ee3853c0>:12(find_duplicate_movies)\n",
    "         5000    3.095    0.001    5.367    0.001 <ipython-input-209-7044ee3853c0>:5(is_duplicate)\n",
    "     24679772    2.272    0.000    2.272    0.000 {method 'lower' of 'str' objects}\n",
    "     \n",
    "Zmieńmy więc trochę implementację:\n",
    "\n"
   ]
  },
  {
   "cell_type": "code",
   "execution_count": null,
   "metadata": {
    "ExecuteTime": {
     "end_time": "2020-01-07T15:10:43.782473Z",
     "start_time": "2020-01-07T15:10:43.242887Z"
    }
   },
   "outputs": [],
   "source": [
    "# ver 2 - optymalizacja ze względu na lower()\n",
    "def read_movies(src, N=5000):\n",
    "    with open(src) as fh:\n",
    "        return fh.read().splitlines()[:N]\n",
    "\n",
    "def is_duplicate(needle, haystack):\n",
    "\n",
    "    for movie in haystack:\n",
    "        if needle == movie:\n",
    "            return True\n",
    "    return False\n",
    "\n",
    "@profile\n",
    "def find_duplicate_movies(src=\"data/movies.csv\"):\n",
    "    movies = [movie.lower() for movie in read_movies(src)]\n",
    "    duplicates = []\n",
    "    while movies:\n",
    "        movie = movies.pop()\n",
    "        if is_duplicate(movie, movies):\n",
    "            duplicates.append(movie)\n",
    "    return duplicates\n",
    "\n",
    "find_duplicate_movies()"
   ]
  },
  {
   "cell_type": "markdown",
   "metadata": {},
   "source": [
    "Czy potrzebujemy teraz funkcji is_duplicate? Zamiast pętli moglibyśmy sprawdzić przecież przynależność"
   ]
  },
  {
   "cell_type": "code",
   "execution_count": null,
   "metadata": {
    "ExecuteTime": {
     "end_time": "2020-01-07T15:10:53.693797Z",
     "start_time": "2020-01-07T15:10:53.386777Z"
    }
   },
   "outputs": [],
   "source": [
    "# ver 3 sprawdzenie przynależności zamiast pętli\n",
    "def read_movies(src, N=5000):\n",
    "    with open(src) as fh:\n",
    "        return fh.read().splitlines()[:N]\n",
    "\n",
    "@profile\n",
    "def find_duplicate_movies(src=\"data/movies.csv\"):\n",
    "    movies = [movie.lower() for movie in read_movies(src)]\n",
    "    duplicates = []\n",
    "    while movies:\n",
    "        movie = movies.pop()\n",
    "        if movie in movies:\n",
    "            duplicates.append(movie)\n",
    "    return duplicates\n",
    "\n",
    "find_duplicate_movies()"
   ]
  },
  {
   "cell_type": "markdown",
   "metadata": {},
   "source": [
    "Dopracujmy metodę read_movies - to się powinno dać zrobić szybciej. Może coś zamiast read?"
   ]
  },
  {
   "cell_type": "code",
   "execution_count": null,
   "metadata": {
    "ExecuteTime": {
     "end_time": "2020-01-07T15:26:36.563260Z",
     "start_time": "2020-01-07T15:26:36.352046Z"
    }
   },
   "outputs": [],
   "source": [
    "# ver 4 optymalizacja read movies\n",
    "def read_movies(src, N=5000):\n",
    "    with open(src) as fh:\n",
    "        return [next(fh) for i in range(N)]\n",
    "\n",
    "@profile\n",
    "def find_duplicate_movies(src=\"data/movies.csv\"):\n",
    "    movies = [movie.lower() for movie in read_movies(src)]\n",
    "    duplicates = []\n",
    "    while movies:\n",
    "        movie = movies.pop()\n",
    "        if movie in movies:\n",
    "            duplicates.append(movie)\n",
    "    return duplicates\n",
    "\n",
    "find_duplicate_movies()"
   ]
  },
  {
   "cell_type": "markdown",
   "metadata": {},
   "source": [
    "Do zrobienia jest jeszcze trochę w tym miejscu:\n",
    "    \n",
    "    duplicates = []\n",
    "    while movies:\n",
    "        movie = movies.pop()\n",
    "        if movie in movies:\n",
    "            duplicates.append(movie)\n",
    "\n",
    "\n",
    "Wielokrotnie iterujemy po liście. Może coś tutaj dałoby się wymyśleć. \n",
    "\n",
    "gdybyśmy mieli taką listę: \n",
    "    \n",
    "    [1, 3, 1, 4, 2, 3, 1]\n",
    "\n",
    "i gdybyśmy ją posortowali \n",
    "\n",
    "    [1, 1, 1, 2, 3, 3, 4]\n",
    "\n",
    "jeśli teraz zrobimy sobie dwie listy, które są wycinkami tej listy - bez pierwszego i bez ostatniego\n",
    "\n",
    "    [1, 1, 2, 3, 3, 4]\n",
    "    [1, 1, 1, 2, 3, 3]\n",
    "    \n",
    "Dzięki posortowaniu wiemy, że te same elementy leżeć będą obok siebie. Tutaj więc będą się zgadzać ich pozycje. Wykorzystajmy to\n"
   ]
  },
  {
   "cell_type": "code",
   "execution_count": null,
   "metadata": {
    "ExecuteTime": {
     "end_time": "2020-01-07T15:28:57.420775Z",
     "start_time": "2020-01-07T15:28:57.366392Z"
    }
   },
   "outputs": [],
   "source": [
    "# ver 5 optymalizacja read movies\n",
    "def read_movies(src, N=5000):\n",
    "    with open(src) as fh:\n",
    "        return [next(fh) for i in range(N)]\n",
    "\n",
    "@profile    \n",
    "def find_duplicate_movies(src=\"data/movies.csv\"):\n",
    "    movies = [movie.lower() for movie in read_movies(src)]\n",
    "    movies.sort()\n",
    "    duplicates = [movie1 for movie1, movie2 in zip(movies[:-1], movies[1:]) if movie1 == movie2]\n",
    "    return duplicates\n",
    "\n",
    "find_duplicate_movies()"
   ]
  },
  {
   "cell_type": "markdown",
   "metadata": {},
   "source": [
    "Musimy się jeszcze uodpornić na wczytanie większej liczby linii\n",
    "\n"
   ]
  },
  {
   "cell_type": "code",
   "execution_count": null,
   "metadata": {
    "ExecuteTime": {
     "end_time": "2020-01-07T15:32:17.486633Z",
     "start_time": "2020-01-07T15:32:17.256656Z"
    }
   },
   "outputs": [],
   "source": [
    "# ver 6 wczytywanie większej liczby linii\n",
    "def read_movies(src, N):\n",
    "    with open(src) as fh:\n",
    "        return [next(fh) for i in range(N)]\n",
    "\n",
    "@profile    \n",
    "def find_duplicate_movies(src=\"data/movies.csv\", N=5000):\n",
    "    movies = [movie.lower() for movie in read_movies(src, N)]\n",
    "    movies.sort()\n",
    "    duplicates = [movie1 for movie1, movie2 in zip(movies[:-1], movies[1:]) if movie1 == movie2]\n",
    "    return duplicates\n",
    "\n",
    "find_duplicate_movies(N=500000)"
   ]
  },
  {
   "cell_type": "markdown",
   "metadata": {
    "ExecuteTime": {
     "end_time": "2020-01-07T15:32:58.398121Z",
     "start_time": "2020-01-07T15:32:58.391652Z"
    }
   },
   "source": [
    "By poradzić sobie ze StopIteration możemy sięgnąć np po `itertools.islice`"
   ]
  },
  {
   "cell_type": "code",
   "execution_count": null,
   "metadata": {
    "ExecuteTime": {
     "end_time": "2020-01-07T15:49:37.857517Z",
     "start_time": "2020-01-07T15:49:37.539648Z"
    }
   },
   "outputs": [],
   "source": [
    "# ver 7\n",
    "import itertools\n",
    "\n",
    "def read_movies(src, N=5000):\n",
    "    with open(src) as fh:\n",
    "        return list(itertools.islice(fh, N))\n",
    "\n",
    "@profile    \n",
    "def find_duplicate_movies(src=\"data/movies.csv\", N=5000):\n",
    "    movies = [movie.lower() for movie in read_movies(src, N)]\n",
    "    movies.sort()\n",
    "    duplicates = [movie1 for movie1, movie2 in zip(movies[:-1], movies[1:]) if movie1 == movie2]\n",
    "    return duplicates\n",
    "\n",
    "find_duplicate_movies(N=500000)"
   ]
  },
  {
   "cell_type": "code",
   "execution_count": null,
   "metadata": {
    "ExecuteTime": {
     "end_time": "2020-01-07T15:49:39.805509Z",
     "start_time": "2020-01-07T15:49:39.499717Z"
    }
   },
   "outputs": [],
   "source": [
    "# ver 8 \n",
    "import itertools\n",
    "\n",
    "def read_movies(src, N=5000):\n",
    "    with open(src) as fh:\n",
    "        return list(itertools.islice(fh, N))\n",
    "\n",
    "@profile    \n",
    "def find_duplicate_movies(src=\"data/movies.csv\", N=5000):\n",
    "    l = str.lower\n",
    "    movies = [l(movie) for movie in read_movies(src, N)]\n",
    "    movies.sort()\n",
    "    duplicates = [movie1 for movie1, movie2 in zip(movies[:-1], movies[1:]) if movie1 == movie2]\n",
    "    return duplicates\n",
    "\n",
    "find_duplicate_movies(N=500000)"
   ]
  },
  {
   "cell_type": "code",
   "execution_count": null,
   "metadata": {
    "ExecuteTime": {
     "end_time": "2020-01-07T15:47:55.641760Z",
     "start_time": "2020-01-07T15:47:55.324298Z"
    }
   },
   "outputs": [],
   "source": []
  },
  {
   "cell_type": "code",
   "execution_count": null,
   "metadata": {
    "ExecuteTime": {
     "end_time": "2020-01-07T15:47:07.209343Z",
     "start_time": "2020-01-07T15:47:07.197614Z"
    }
   },
   "outputs": [],
   "source": [
    "def xxx(text):\n",
    "    l = str.lower\n",
    "    return l(text)\n",
    "\n",
    "def xxx2(text):\n",
    "    return text.lower()\n",
    "    "
   ]
  },
  {
   "cell_type": "code",
   "execution_count": null,
   "metadata": {
    "ExecuteTime": {
     "end_time": "2020-01-07T15:45:49.211619Z",
     "start_time": "2020-01-07T15:45:47.606636Z"
    }
   },
   "outputs": [],
   "source": [
    "%timeit xxx(\"QWE\")"
   ]
  },
  {
   "cell_type": "code",
   "execution_count": null,
   "metadata": {
    "ExecuteTime": {
     "end_time": "2020-01-07T15:46:12.157803Z",
     "start_time": "2020-01-07T15:46:01.183270Z"
    }
   },
   "outputs": [],
   "source": [
    "%timeit xxx2(\"QWE\")"
   ]
  },
  {
   "cell_type": "markdown",
   "metadata": {},
   "source": [
    "#### Podsumowując\n",
    "\n",
    "* Są różne rodzaje optymalizacji (szybkość, pamięć, stabilność itp)\n",
    "* Są różne poziomy optymalizacji (projekt, algorytmy, struktury danych, kod źródłowy)\n",
    "* Optymalizacja kodu źródłowego sumuje się - każda poprawka wnosi swój wkład w przyspieszenie\n",
    "* Optymalizacja kodu źródłowego jest stosunkowo prosta i \"tania\" - wystarczy, że będziemy trzymać się idiomów pythona, korzystać z funkcji wbudowanych, biblioteki standardowej. Nie wymyślajmy koła na nowo.\n",
    "* Przed optymalizacją dokończ swój kod - spraw by powstała działająca wersja, napisz testy, które pomogą uniknąć błędów regresji, przetestuj swój kod. Zapisz wyniki i czas by mieć z czym porównywać. Profiluj swój kod. "
   ]
  },
  {
   "cell_type": "code",
   "execution_count": null,
   "metadata": {},
   "outputs": [],
   "source": []
  }
 ],
 "metadata": {
  "kernelspec": {
   "display_name": "Python 3",
   "language": "python",
   "name": "python3"
  },
  "language_info": {
   "codemirror_mode": {
    "name": "ipython",
    "version": 3
   },
   "file_extension": ".py",
   "mimetype": "text/x-python",
   "name": "python",
   "nbconvert_exporter": "python",
   "pygments_lexer": "ipython3",
   "version": "3.7.4"
  },
  "toc": {
   "base_numbering": 1,
   "nav_menu": {},
   "number_sections": true,
   "sideBar": true,
   "skip_h1_title": false,
   "title_cell": "Table of Contents",
   "title_sidebar": "Contents",
   "toc_cell": false,
   "toc_position": {},
   "toc_section_display": true,
   "toc_window_display": true
  }
 },
 "nbformat": 4,
 "nbformat_minor": 2
}
